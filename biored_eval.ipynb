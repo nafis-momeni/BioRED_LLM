{
  "cells": [
    {
      "cell_type": "markdown",
      "metadata": {
        "id": "view-in-github",
        "colab_type": "text"
      },
      "source": [
        "<a href=\"https://colab.research.google.com/github/nafis-momeni/BioRED_LLM/blob/main/biored_eval.ipynb\" target=\"_parent\"><img src=\"https://colab.research.google.com/assets/colab-badge.svg\" alt=\"Open In Colab\"/></a>"
      ]
    },
    {
      "cell_type": "code",
      "execution_count": null,
      "metadata": {
        "id": "SkvnDwKiKGtN"
      },
      "outputs": [],
      "source": []
    },
    {
      "cell_type": "code",
      "execution_count": 1,
      "metadata": {
        "id": "9xZzW2VW1nKO"
      },
      "outputs": [],
      "source": [
        "# from google.colab import drive\n",
        "# drive.mount('/content/drive')"
      ]
    },
    {
      "cell_type": "code",
      "execution_count": 2,
      "metadata": {
        "id": "JhJ-r52w1n4L"
      },
      "outputs": [],
      "source": [
        "from collections import defaultdict\n",
        "# type_f = \"id_selected\"\n",
        "# shot_f = \"20_shots\"\n",
        "# root_path = \"/content/drive/MyDrive/BioRE/data\"\n",
        "# pred_path = root_path + f\"/{type_f}/preds/pred_{shot_f}.txt\"\n",
        "# actual_path = \"/content/drive/MyDrive/BioRE/data/expected.txt\"\n",
        "\n",
        "# result_path = root_path +  f\"/{type_f}/{shot_f}_results.txt\"\n",
        "# figure_path = root_path +  f\"/{type_f}/{shot_f}_confusion_matrix.png\"\n",
        "\n",
        "pred_path = \"/content/10_shots_represent_samples.txt\"\n",
        "actual_path = \"/content/expected.txt\"\n",
        "\n",
        "name_eval = \"10 Shots Representative Samplse\"\n",
        "result_path = \"/content/10_shots_represent_samples.txt\"\n",
        "figure_path = \"/content/10_shots_represent_samples.png\"\n",
        "ex = []"
      ]
    },
    {
      "cell_type": "code",
      "execution_count": 3,
      "metadata": {
        "id": "f9q4y1tCSQps"
      },
      "outputs": [],
      "source": [
        "#global attr\n",
        "\n",
        "types = ['Association', 'Comparison', 'Conversion', 'Cotreatment', 'Negative_Correlation', 'Positive_Correlation', 'Bind', 'Drug_Interaction']\n",
        "\n",
        "ent_pair_tp, ent_pair_fp, ent_pair_fn = 0, 0, 0\n",
        "novelty_tp, novelty_fp, novelty_fn, novelty_tn = 0, 0, 0, 0\n",
        "total_p, total_n = 0, 0\n",
        "rel_confusion_matrix = defaultdict(lambda: defaultdict(int))\n",
        "\n",
        "\n"
      ]
    },
    {
      "cell_type": "code",
      "execution_count": 4,
      "metadata": {
        "id": "DapbxSQK2tvA"
      },
      "outputs": [],
      "source": [
        "def parse_output(file_path, pairs_only):\n",
        "    data = defaultdict(list)\n",
        "    dup =0\n",
        "    all_rels = 0\n",
        "    unique_rels = 0\n",
        "    with open(file_path, 'r') as file:\n",
        "        content = file.read()\n",
        "        results = content.split('\\n\\n')\n",
        "        for result in results:\n",
        "          #try pmid=parlines[0].split(':')[1]\n",
        "          lines = result.strip().split('\\n')\n",
        "          try:\n",
        "            pmid = lines[0].split(':')[1].strip(' ')\n",
        "          except:\n",
        "            print(lines)\n",
        "            break\n",
        "          for line in lines[1:]:\n",
        "            parts = line.split(',')\n",
        "            all_rels+=1\n",
        "            if pairs_only:\n",
        "              relation = tuple(sorted(parts))\n",
        "              if relation not in data[pmid]:\n",
        "                data[pmid].append(relation)\n",
        "                unique_rels +=1\n",
        "              else:\n",
        "                # print(\"duplication: \"+ line + '\\n')\n",
        "                dup+=1\n",
        "            else:\n",
        "              if parts[0] not in types:\n",
        "                print(\"incorrectformat:\" ,str(parts[0]),lines)\n",
        "              else:\n",
        "                try:\n",
        "                  relation = (parts[0], *sorted(parts[1:3]), parts[3])\n",
        "                  if relation not in data[pmid]:\n",
        "                    data[pmid].append(relation)\n",
        "                    unique_rels +=1\n",
        "                  else:\n",
        "                    dup+=1\n",
        "                except:\n",
        "                 print(\"incorrectformat:\" ,parts)\n",
        "\n",
        "    print(dup, unique_rels, all_rels)\n",
        "    return data\n",
        "def novelty(actual_data, pred_data, entp):\n",
        "  global novelty_tp, novelty_fn, novelty_fp, novelty_tn\n",
        "  actual_novelty = [r[3] for r in actual_data if tuple(sorted(r[1:3])) == tuple(sorted(entp))][0]\n",
        "  pred_novelty = [r[3] for r in pred_data if tuple(sorted(r[1:3])) == tuple(sorted(entp))][0]\n",
        "  #todo tn???\n",
        "  if actual_novelty == 'Novel' and pred_novelty == 'Novel':\n",
        "    novelty_tp +=1\n",
        "  if actual_novelty == 'Novel' and pred_novelty == 'No':\n",
        "    novelty_fn +=1\n",
        "  if actual_novelty == 'No' and pred_novelty == 'Novel':\n",
        "    novelty_fp +=1\n",
        "  if actual_novelty == 'No' and pred_novelty == 'No':\n",
        "    novelty_tn +=1\n",
        "\n",
        "def precision_func(tp, fp, fn):\n",
        "  precision = tp / (tp + fp) if (tp + fp) > 0 else 0\n",
        "  return precision\n",
        "def recall_func(tp,fp,fn):\n",
        "  recall = tp / (tp + fn) if (tp + fn) > 0 else 0\n",
        "  return recall\n",
        "def f1_score_func(precision, recall):\n",
        "  fscore = 2 * (recall * precision)/(recall + precision) if (recall + precision) > 0 else 0\n",
        "  return fscore\n",
        "def accuracy_func(tp,fp,fn,tn):\n",
        "  acc = (tp + tn) / (tp + tn + fp + fn) if (tp + tn + fp + fn) > 0 else 0\n",
        "  return acc"
      ]
    },
    {
      "cell_type": "code",
      "execution_count": 5,
      "metadata": {
        "colab": {
          "base_uri": "https://localhost:8080/"
        },
        "id": "5YaJ7Vl-5eG8",
        "outputId": "14687c65-d91e-46ec-cead-3e817bad8be6"
      },
      "outputs": [
        {
          "output_type": "stream",
          "name": "stdout",
          "text": [
            "['']\n",
            "17 1427 1444\n",
            "['']\n",
            "0 1163 1163\n"
          ]
        }
      ],
      "source": [
        "pairs_only = False\n",
        "\n",
        "pred_data = parse_output(pred_path,pairs_only)\n",
        "actual_data = parse_output(actual_path,pairs_only)"
      ]
    },
    {
      "cell_type": "code",
      "execution_count": 6,
      "metadata": {
        "colab": {
          "base_uri": "https://localhost:8080/"
        },
        "id": "WWzGtBAXUm5x",
        "outputId": "5d301d51-9ae3-49f6-9436-80e27fcc8433"
      },
      "outputs": [
        {
          "output_type": "stream",
          "name": "stdout",
          "text": [
            "100\n",
            "100\n"
          ]
        }
      ],
      "source": [
        "print(len(pred_data))\n",
        "print(len(actual_data))"
      ]
    },
    {
      "cell_type": "code",
      "source": [
        "# print(pred_data)"
      ],
      "metadata": {
        "id": "36L6xDvMm3YX"
      },
      "execution_count": 7,
      "outputs": []
    },
    {
      "cell_type": "code",
      "execution_count": 8,
      "metadata": {
        "colab": {
          "base_uri": "https://localhost:8080/"
        },
        "id": "3xgmrIuBWYj5",
        "outputId": "350653ee-f3be-4643-cfba-09fa794f14c3"
      },
      "outputs": [
        {
          "output_type": "stream",
          "name": "stdout",
          "text": [
            "0\n"
          ]
        }
      ],
      "source": [
        "from collections import Counter\n",
        "if not pairs_only:\n",
        "  n =0\n",
        "  for pmid in actual_data:\n",
        "    if pmid in pred_data:\n",
        "      pred_ent_pairs = [tuple(sorted(pr[1:3])) for pr in pred_data[pmid]]\n",
        "      pair_counts = Counter(pred_ent_pairs)\n",
        "      repeated_pairs = [pair for pair, count in pair_counts.items() if count > 1]\n",
        "      for pair, count in pair_counts.items():\n",
        "        if count > 1:\n",
        "          n+= count\n",
        "      rels = [r for r in pred_data[pmid] if tuple(sorted(r[1:3])) in repeated_pairs]\n",
        "      if len(repeated_pairs) > 0:\n",
        "        print(pmid, rels)\n",
        "        unique_pairs = [pair for pair, count in pair_counts.items() if count == 1]\n",
        "        unique_relations = [r for r in pred_data[pmid] if tuple(sorted(r[1:3])) in unique_pairs]\n",
        "        pred_data[pmid] = unique_relations\n",
        "  print(n)"
      ]
    },
    {
      "cell_type": "code",
      "execution_count": 9,
      "metadata": {
        "id": "bxwn8l6zIP-g",
        "collapsed": true
      },
      "outputs": [],
      "source": [
        "ent_pair_tp, ent_pair_fp, ent_pair_fn = 0, 0, 0\n",
        "novelty_tp, novelty_fp, novelty_fn, novelty_tn = 0, 0, 0, 0\n",
        "total_p, total_n = 0, 0\n",
        "rel_confusion_matrix = defaultdict(lambda: defaultdict(int))\n",
        "no_doc=0\n",
        "\n",
        "# pairs_only = True\n",
        "\n",
        "if pairs_only:\n",
        "  for pmid in actual_data:\n",
        "    if pmid in pred_data:\n",
        "      for entp in actual_data[pmid]:\n",
        "        if entp in pred_data[pmid]:\n",
        "          ent_pair_tp+=1\n",
        "        else:\n",
        "          ent_pair_fn+=1\n",
        "      for entp in pred_data[pmid]:\n",
        "        if entp not in actual_data[pmid]:\n",
        "          ent_pair_fp+=1\n",
        "\n",
        "    else:\n",
        "      print(\"no match for: \"+ pmid)\n",
        "      no_doc += len(actual_data[pmid])\n",
        "else:\n",
        "  for pmid in actual_data:\n",
        "    if pmid in pred_data:\n",
        "      actual_ent_pairs = [tuple(sorted(ar[1:3])) for ar in actual_data[pmid]]\n",
        "      pred_ent_pairs = [tuple(sorted(pr[1:3])) for pr in pred_data[pmid]]\n",
        "\n",
        "      for entp in actual_ent_pairs:\n",
        "        actual_type = [r[0] for r in actual_data[pmid] if tuple(sorted(r[1:3])) == tuple(sorted(entp))][0]\n",
        "        if entp in pred_ent_pairs:\n",
        "          ent_pair_tp+=1\n",
        "          pred_type = [r[0] for r in pred_data[pmid]  if tuple(sorted(r[1:3])) == tuple(sorted(entp))][0]\n",
        "\n",
        "          if pred_type in types :\n",
        "            rel_confusion_matrix[actual_type][pred_type] += 1\n",
        "          else:\n",
        "            print(\"wrong format\", pred_type)\n",
        "\n",
        "          novelty(actual_data[pmid], pred_data[pmid], entp)\n",
        "\n",
        "        else:\n",
        "          ent_pair_fn+=1\n",
        "          rel_confusion_matrix[actual_type]['NA'] += 1\n",
        "\n",
        "      for entp in pred_ent_pairs:\n",
        "        if entp not in actual_ent_pairs:\n",
        "          ent_pair_fp+=1\n",
        "      for r in actual_data[pmid]:\n",
        "        if r in pred_data[pmid]:\n",
        "          total_p +=1\n",
        "        else:\n",
        "          total_n +=1\n",
        "    else:\n",
        "      print(\"no match for: \"+ pmid)\n",
        "      no_doc += len(actual_data[pmid])\n"
      ]
    },
    {
      "cell_type": "code",
      "source": [
        "if pairs_only:\n",
        "  tp = ent_pair_tp\n",
        "  fn = ent_pair_fn\n",
        "  fp = ent_pair_fp\n",
        "  precision = precision_func(tp,fp,fn)\n",
        "  recall = recall_func(tp,fp,fn)\n",
        "  f1_score = f1_score_func(precision, recall)\n",
        "\n",
        "  print(f\"entity pairs:\")\n",
        "  print(f\"Precision: {precision:.4f}\")\n",
        "  print(f\"Recall: {recall:.4f}\")\n",
        "  print(f\"F1-score: {f1_score:.4f}\")\n",
        "  print(tp, fp, fn, '\\n')\n",
        "  print(\"considering blocked doc an FN\")\n",
        "  print(\"blocked doc pairs count: \",no_doc)\n",
        "  fn = ent_pair_fn + no_doc\n",
        "  precision = precision_func(tp,fp,fn)\n",
        "  recall = recall_func(tp,fp,fn)\n",
        "  f1_score = f1_score_func(precision, recall)\n",
        "\n",
        "  print(f\"Precision: {precision:.4f}\")\n",
        "  print(f\"Recall: {recall:.4f}\")\n",
        "  print(f\"F1-score: {f1_score:.4f}\")\n",
        "  print(tp, fp, fn)"
      ],
      "metadata": {
        "id": "PTtUUo6jkNkR"
      },
      "execution_count": 10,
      "outputs": []
    },
    {
      "cell_type": "markdown",
      "metadata": {
        "id": "BVuJNqX2l8-4"
      },
      "source": [
        "#results"
      ]
    },
    {
      "cell_type": "code",
      "execution_count": 11,
      "metadata": {
        "id": "tKoILOeWBeQf"
      },
      "outputs": [],
      "source": [
        "f_results = \"\""
      ]
    },
    {
      "cell_type": "code",
      "execution_count": 12,
      "metadata": {
        "colab": {
          "base_uri": "https://localhost:8080/"
        },
        "id": "Y0iJ5-_bgwc_",
        "outputId": "2a38bfbe-d31f-479b-bfd5-e9e989a2728f"
      },
      "outputs": [
        {
          "output_type": "stream",
          "name": "stdout",
          "text": [
            "total tp: 310\n",
            "total fn: 853\n",
            "total fp: 811\n",
            "Precision: 0.2765\n",
            "Recall1: 0.2666\n",
            "F1-score: 0.2715\n",
            "\n",
            "\n"
          ]
        }
      ],
      "source": [
        "tp = total_p\n",
        "fn = total_n\n",
        "fp = ent_pair_fp\n",
        "precision = precision_func(tp,fp,fn)\n",
        "recall = recall_func(tp,fp,fn)\n",
        "\n",
        "f1_score = f1_score_func(precision, recall)\n",
        "\n",
        "results = \"\"\n",
        "results += f\"total tp: {total_p}\\n\"\n",
        "results += f\"total fn: {total_n}\\n\"\n",
        "results += f\"total fp: {ent_pair_fp}\\n\"\n",
        "results += f\"Precision: {precision:.4f}\\n\"\n",
        "results += f\"Recall1: {recall:.4f}\\n\"\n",
        "results += f\"F1-score: {f1_score:.4f}\\n\\n\"\n",
        "\n",
        "# ex.append(round(precision, 4))\n",
        "# ex.append(round(recall, 4))\n",
        "ex.append(round(f1_score*100, 2))\n",
        "# ex.append(total_p)\n",
        "# ex.append(ent_pair_fp)\n",
        "# ex.append(total_n)\n",
        "f_results += results\n",
        "print(results)"
      ]
    },
    {
      "cell_type": "code",
      "execution_count": 13,
      "metadata": {
        "colab": {
          "base_uri": "https://localhost:8080/"
        },
        "id": "7hvDTzg4bj0R",
        "outputId": "2cb2cbd0-886d-4540-8eff-fcfd647f89a3"
      },
      "outputs": [
        {
          "output_type": "stream",
          "name": "stdout",
          "text": [
            "entity pairs:\n",
            "Precision: 0.4317 \n",
            "Recall: 0.5297 \n",
            "F1-score: 0.4757 \n",
            "(tp, fp, fn) \n",
            "616 811 547 \n",
            "\n",
            "\n"
          ]
        }
      ],
      "source": [
        "precision = precision_func(tp=ent_pair_tp, fp =ent_pair_fp, fn = ent_pair_fn)\n",
        "recall = recall_func(tp=ent_pair_tp, fp =ent_pair_fp, fn = ent_pair_fn)\n",
        "f1_score = f1_score_func(precision, recall)\n",
        "\n",
        "results = \"\"\n",
        "results += \"entity pairs:\" + '\\n'\n",
        "results += f\"Precision: {precision:.4f} \\n\"\n",
        "results += f\"Recall: {recall:.4f} \\n\"\n",
        "results += f\"F1-score: {f1_score:.4f} \\n\"\n",
        "results += \"(tp, fp, fn) \\n\"\n",
        "results += f\"{ent_pair_tp} {ent_pair_fp} {ent_pair_fn} \\n\\n\"\n",
        "f_results += results\n",
        "print(results)\n",
        "\n",
        "# ex.append(round(precision, 4))\n",
        "# ex.append(round(recall, 4))\n",
        "ex.append(round(f1_score*100, 2))\n",
        "# ex.append(ent_pair_tp)\n",
        "# ex.append(ent_pair_fp)\n",
        "# ex.append(ent_pair_fn)\n"
      ]
    },
    {
      "cell_type": "code",
      "execution_count": 14,
      "metadata": {
        "colab": {
          "base_uri": "https://localhost:8080/"
        },
        "id": "blD600MSdBNA",
        "outputId": "51302536-4c39-4803-c536-c8ff27817c8f"
      },
      "outputs": [
        {
          "output_type": "stream",
          "name": "stdout",
          "text": [
            "Novelty:\n",
            "Precision: 0.8811\n",
            "Recall1: 0.7707\n",
            "Recall2 tp +=tn: 0.8095\n",
            "F1-score: 0.8222\n",
            "Accuracy: 0.7451\n",
            "(tp, fp, fn, tn) \n",
            "363 49 108 96 \n",
            "\n",
            "\n"
          ]
        }
      ],
      "source": [
        "tp = novelty_tp\n",
        "fp = novelty_fp\n",
        "fn = novelty_fn\n",
        "tn = novelty_tn\n",
        "precision = precision_func(tp,fp,fn)\n",
        "recall1 = recall_func(tp,fp,fn)\n",
        "recall2 = recall_func(tp+tn,fp,fn)\n",
        "f1_score = f1_score_func(precision, recall1)\n",
        "acc = accuracy_func(tp,fp,fn,tn)\n",
        "results = \"\"\n",
        "results += f\"Novelty:\\n\"\n",
        "results += f\"Precision: {precision:.4f}\\n\"\n",
        "results += f\"Recall1: {recall1:.4f}\\n\"\n",
        "results += f\"Recall2 tp +=tn: {recall2:.4f}\\n\"\n",
        "results += f\"F1-score: {f1_score:.4f}\\n\"\n",
        "results += f\"Accuracy: {acc:.4f}\\n\"\n",
        "results += \"(tp, fp, fn, tn) \\n\"\n",
        "results += f\"{tp} {fp} {fn} {tn} \\n\\n\"\n",
        "f_results += results\n",
        "print(results)\n",
        "\n",
        "# ex.append(round(precision, 4))\n",
        "# ex.append(round(recall, 4))\n",
        "ex.append(round(f1_score*100, 2))\n",
        "# ex.append(round(acc, 4))\n",
        "# ex.append(tp)\n",
        "# ex.append(fp)\n",
        "# ex.append(fn)\n",
        "# ex.append(tn)\n"
      ]
    },
    {
      "cell_type": "code",
      "execution_count": 15,
      "metadata": {
        "id": "AL16rCFhAl8z"
      },
      "outputs": [],
      "source": [
        "# Initialize variables for micro average\n",
        "micro_tp = 0\n",
        "micro_fp = 0\n",
        "micro_fn = 0\n",
        "\n",
        "# Initialize variables for macro average\n",
        "macro_precisions = []\n",
        "macro_recalls = []\n",
        "macro_f1_scores = []\n",
        "results = \"\"\n",
        "\n",
        "for expected_class in types:\n",
        "    tp = rel_confusion_matrix[expected_class][expected_class]\n",
        "    fp = sum(rel_confusion_matrix[other_class][expected_class] for other_class in types if other_class != expected_class)\n",
        "    fn = sum(rel_confusion_matrix[expected_class][other_class] for other_class in types  if other_class != expected_class)\n",
        "\n",
        "    # Update micro average values\n",
        "    micro_tp += tp\n",
        "    micro_fp += fp\n",
        "    micro_fn += fn\n",
        "\n",
        "    # Calculate precision, recall, and F1-score for the current class\n",
        "    precision = precision_func(tp,fp,fn)\n",
        "    recall = recall_func(tp,fp,fn)\n",
        "    f1_score = f1_score_func(precision, recall)\n",
        "\n",
        "    results += f\"Class {expected_class}:\\n\"\n",
        "    results += f\"Precision: {precision:.4f}\\n\"\n",
        "    results += f\"Recall: {recall:.4f}\\n\"\n",
        "    results += f\"F1-score: {f1_score:.4f}\\n\"\n",
        "    results += \"(tp, fp, fn) \\n\"\n",
        "    results += f\"{tp} {fp} {fn} \\n\\n\"\n",
        "\n",
        "\n",
        "    # Append to lists for macro average\n",
        "    macro_precisions.append(precision)\n",
        "    macro_recalls.append(recall)\n",
        "    macro_f1_scores.append(f1_score)\n",
        "\n",
        "# Calculate micro average\n",
        "micro_precision = precision_func(micro_tp,micro_fp,micro_fn)\n",
        "micro_recall = recall_func(micro_tp,micro_fp,micro_fn)\n",
        "micro_f1_score = f1_score_func(micro_precision, micro_recall)\n",
        "\n",
        "\n",
        "# Calculate macro average\n",
        "macro_precision = sum(macro_precisions) / len(macro_precisions)\n",
        "macro_recall = sum(macro_recalls) / len(macro_recalls)\n",
        "macro_f1_score = sum(macro_f1_scores) / len(macro_f1_scores)\n",
        "\n",
        "results += \"Micro Averages:\\n\"\n",
        "results += f\"Precision: {micro_precision:.4f}\\n\"\n",
        "results += f\"Recall: {micro_recall:.4f}\\n\"\n",
        "results += f\"F1-score: {micro_f1_score:.4f}\\n\"\n",
        "results += \"(tp, fp, fn) \\n\"\n",
        "results += f\"{micro_tp} {micro_fp} {micro_fn} \\n\"\n",
        "\n",
        "results += \"\\nMacro Averages:\\n\"\n",
        "results += f\"Precision: {macro_precision:.4f}\\n\"\n",
        "results += f\"Recall: {macro_recall:.4f}\\n\"\n",
        "results += f\"F1-score: {macro_f1_score:.4f}\\n\"\n",
        "\n",
        "\n",
        "f_results += results\n",
        "\n",
        "# print(results)\n",
        "\n",
        "# ex.append(round(micro_precision, 4))\n",
        "# ex.append(round(micro_recall, 4))\n",
        "ex.append(round(micro_f1_score*100, 2))\n",
        "\n",
        "# ex.append(micro_tp)\n",
        "# ex.append(micro_fp)\n",
        "# ex.append(micro_fn)\n",
        "\n",
        "# ex.append(round(macro_precision, 4))\n",
        "# ex.append(round(macro_recall, 4))\n",
        "# ex.append(round(macro_f1_score, 4))"
      ]
    },
    {
      "cell_type": "code",
      "execution_count": 16,
      "metadata": {
        "id": "4BGmA33tG0EK"
      },
      "outputs": [],
      "source": [
        "\n",
        "with open(result_path, 'w') as f:\n",
        "  f.write(f_results)"
      ]
    },
    {
      "cell_type": "code",
      "execution_count": 17,
      "metadata": {
        "colab": {
          "base_uri": "https://localhost:8080/"
        },
        "id": "4X_0jEu3OIuC",
        "outputId": "8eb47b22-940c-4fdc-e345-8fbc1224c814"
      },
      "outputs": [
        {
          "output_type": "stream",
          "name": "stdout",
          "text": [
            "[27.15, 47.57, 82.22, 63.64]\n"
          ]
        }
      ],
      "source": [
        "print(ex)"
      ]
    },
    {
      "cell_type": "code",
      "execution_count": 18,
      "metadata": {
        "colab": {
          "base_uri": "https://localhost:8080/",
          "height": 902
        },
        "id": "KBIFxGU3wnRh",
        "outputId": "e4c37225-d7b3-4c04-e72e-04e0efe1dece"
      },
      "outputs": [
        {
          "output_type": "stream",
          "name": "stderr",
          "text": [
            "<ipython-input-18-b7950ada283c>:13: MatplotlibDeprecationWarning: The get_cmap function was deprecated in Matplotlib 3.7 and will be removed two minor releases later. Use ``matplotlib.colormaps[name]`` or ``matplotlib.colormaps.get_cmap(obj)`` instead.\n",
            "  cmap = plt.cm.get_cmap('BuPu', 8)\n"
          ]
        },
        {
          "output_type": "display_data",
          "data": {
            "text/plain": [
              "<Figure size 1400x800 with 2 Axes>"
            ],
            "image/png": "[encoded data removed]"
          },
          "metadata": {}
        }
      ],
      "source": [
        "import seaborn as sns\n",
        "import matplotlib.pyplot as plt\n",
        "import numpy as np\n",
        "import matplotlib.colors as colors\n",
        "\n",
        "# Assuming types is a list of all unique relation types\n",
        "# types = list(rel_confusion_matrix.keys())\n",
        "\n",
        "# Create a 2D array to store the confusion matrix values\n",
        "confusion_matrix_values = [[rel_confusion_matrix[actual_class][pred_class] for pred_class in types + ['NA']] for actual_class in types]\n",
        "\n",
        "# Define custom color map\n",
        "cmap = plt.cm.get_cmap('BuPu', 8)\n",
        "cmap_colors = cmap(np.linspace(0, 1, 6))\n",
        "cmap_colors[0] = [1, 1, 1, 1]  # Set the first color to white\n",
        "\n",
        "# Create a custom normalization function\n",
        "bounds = [0, 1, 3, 20, 50, 100, 200, 300, 400]\n",
        "norm = colors.BoundaryNorm(bounds, ncolors=cmap.N)\n",
        "\n",
        "# Draw the confusion matrix\n",
        "plt.figure(figsize=(14, 8))\n",
        "sns.heatmap(confusion_matrix_values, annot=True, fmt=\"d\", xticklabels=types + ['Not Predicted'], yticklabels=types, cmap=cmap, norm=norm)\n",
        "plt.xlabel(\"Predicted Relation Type\")\n",
        "plt.ylabel(\"Actual Relation Type\")\n",
        "plt.title(\"Relation Type Confusion Matrix \"+ name_eval)\n",
        "# plt.savefig(\"/content/fig.png\", dpi=300, bbox_inches=\"tight\")\n",
        "plt.savefig(figure_path, dpi=300, bbox_inches=\"tight\")\n",
        "plt.show()"
      ]
    },
    {
      "cell_type": "markdown",
      "metadata": {
        "id": "JEpJMY43R_Es"
      },
      "source": [
        "#test"
      ]
    },
    {
      "cell_type": "code",
      "execution_count": 19,
      "metadata": {
        "id": "FIuZKfda-3od"
      },
      "outputs": [],
      "source": [
        "# import seaborn as sns\n",
        "# import matplotlib.pyplot as plt\n",
        "# import numpy as np\n",
        "# import pandas as pd\n",
        "\n",
        "\n",
        "# data = {\n",
        "#     'Model': ['PubMedBERT', 'Mean of teams', 'Median of teams', 'GPT 3.5', 'GPT 4', 'Gemini 1.0 Pro'],\n",
        "#     'Entity Pair': [74.29, 67.03, 73.56, 37.44, 42.93, 52.55],\n",
        "#     'Entity Pair + Relation Type': [51.93, 47.74, 53.17, 13.41, 20.85, 42.82],\n",
        "#     'Entity Pair + Novelty': [56.25, 47.74, 56.45, 22.83, 30.4, 89.59],\n",
        "#     'Entity Pair + Relation Type + Novelty': [38.9, 35.22, 40.73, 8.7, 15.44, 14.9]\n",
        "# }\n",
        "\n",
        "# df = pd.DataFrame(data)\n",
        "\n",
        "# sns.set(style=\"whitegrid\")\n",
        "\n",
        "# # custom_palette = [\"#FF5733\", \"#3498DB\", \"#27AE60\", \"#F1C40F\"]\n",
        "# c = sns.color_palette(\"hls\", 8)\n",
        "\n",
        "# # Create a bar plot for each variable using the custom palette\n",
        "# for col in df.columns[1:]:\n",
        "#     plt.figure(figsize=(8, 6))\n",
        "#     sns.barplot(y=col, data=df, palette=c, hue='Model')  # Specify the custom palette here\n",
        "#     plt.xlabel(f'{col}')\n",
        "\n",
        "#     # Add numbers on top of the bars\n",
        "#     for p in plt.gca().patches:\n",
        "#         plt.gca().annotate(f\"{p.get_height():.2f}\", (p.get_x() + p.get_width() / 2., p.get_height() + 1),\n",
        "#                            ha='center', va='center', fontsize=10, color='black')\n",
        "\n",
        "#     plt.show()\n"
      ]
    },
    {
      "cell_type": "code",
      "execution_count": 20,
      "metadata": {
        "id": "gTNsq-oS045z"
      },
      "outputs": [],
      "source": [
        "# import matplotlib.pyplot as plt\n",
        "# import numpy as np\n",
        "\n",
        "# # Data\n",
        "# models = ['PubMedBERT', 'Mean of teams', 'Median of teams', 'GPT 3.5', 'GPT 4', 'Gemini 1.0 Pro']\n",
        "# entity_pair = [74.29, 67.03, 73.56, 37.44, 42.93, 52.55]\n",
        "# entity_pair_relation_type = [51.93, 47.74, 53.17, 13.41, 20.85, 42.82]\n",
        "# entity_pair_novelty_label = [56.25, 47.74, 56.45, 22.83, 30.4, 89.59]\n",
        "# entity_pair_relation_type_novelty_label = [38.9, 35.22, 40.73, 8.7, 15.44, 14.9]\n",
        "\n",
        "# # Set up the figure and axis\n",
        "# fig, axs = plt.subplots(2, 2, figsize=(12, 8))\n",
        "# axs = axs.ravel()\n",
        "\n",
        "# # Create bar plots\n",
        "# axs[0].bar(models, entity_pair)\n",
        "# axs[0].set_title('Entity Pair')\n",
        "# axs[0].set_xlabel('Models')\n",
        "# axs[0].set_ylabel('Score')\n",
        "\n",
        "# axs[1].bar(models, entity_pair_relation_type)\n",
        "# axs[1].set_title('Entity Pair + Relation Type')\n",
        "# axs[1].set_xlabel('Models')\n",
        "# axs[1].set_ylabel('Score')\n",
        "\n",
        "# axs[2].bar(models, entity_pair_novelty_label)\n",
        "# axs[2].set_title('Entity Pair + Novelty Label')\n",
        "# axs[2].set_xlabel('Models')\n",
        "# axs[2].set_ylabel('Score')\n",
        "\n",
        "# axs[3].bar(models, entity_pair_relation_type_novelty_label)\n",
        "# axs[3].set_title('Entity Pair + Relation Type + Novelty Label')\n",
        "# axs[3].set_xlabel('Models')\n",
        "# axs[3].set_ylabel('Score')\n",
        "\n",
        "# # Adjust spacing between subplots\n",
        "# plt.subplots_adjust(hspace=0.5, wspace=0.5)\n",
        "\n",
        "# # Display the plot\n",
        "# plt.show()"
      ]
    },
    {
      "cell_type": "code",
      "execution_count": 21,
      "metadata": {
        "id": "598LSZJK1Kin"
      },
      "outputs": [],
      "source": [
        "# import matplotlib.pyplot as plt\n",
        "# import numpy as np\n",
        "\n",
        "# # Data\n",
        "# models = ['PubMedBERT', 'Mean of teams', 'Median of teams', 'GPT 3.5', 'GPT 4', 'Gemini 1.0 Pro']\n",
        "# entity_pair = [74.29, 67.03, 73.56, 37.44, 42.93, 52.55]\n",
        "# entity_pair_relation_type = [51.93, 47.74, 53.17, 13.41, 20.85, 42.82]\n",
        "# entity_pair_novelty_label = [56.25, 47.74, 56.45, 22.83, 30.4, 89.59]\n",
        "# entity_pair_relation_type_novelty_label = [38.9, 35.22, 40.73, 8.7, 15.44, 14.9]\n",
        "\n",
        "# # Set up the figure and axis\n",
        "# fig, ((ax1, ax2), (ax3, ax4)) = plt.subplots(2, 2, figsize=(12, 8))\n",
        "# fig.suptitle('Bar Plots', fontsize=16)\n",
        "\n",
        "# # Plot the bar plots\n",
        "# bar_width = 0.5\n",
        "# index = np.arange(len(models))\n",
        "\n",
        "# ax1.bar(index, entity_pair, bar_width)\n",
        "# ax1.set_xlabel('Models')\n",
        "# ax1.set_ylabel('Scores')\n",
        "# ax1.set_title('Entity Pair')\n",
        "# ax1.set_xticks(index)\n",
        "# ax1.set_xticklabels(models, rotation=90)\n",
        "\n",
        "# ax2.bar(index, entity_pair_relation_type, bar_width)\n",
        "# ax2.set_xlabel('Models')\n",
        "# ax2.set_ylabel('Scores')\n",
        "# ax2.set_title('Entity Pair + Relation Type')\n",
        "# ax2.set_xticks(index)\n",
        "# ax2.set_xticklabels(models, rotation=90)\n",
        "\n",
        "# ax3.bar(index, entity_pair_novelty_label, bar_width)\n",
        "# ax3.set_xlabel('Models')\n",
        "# ax3.set_ylabel('Scores')\n",
        "# ax3.set_title('Entity Pair + Novelty Label')\n",
        "# ax3.set_xticks(index)\n",
        "# ax3.set_xticklabels(models, rotation=90)\n",
        "\n",
        "# ax4.bar(index, entity_pair_relation_type_novelty_label, bar_width)\n",
        "# ax4.set_xlabel('Models')\n",
        "# ax4.set_ylabel('Scores')\n",
        "# ax4.set_title('Entity Pair + Relation Type + Novelty Label')\n",
        "# ax4.set_xticks(index)\n",
        "# ax4.set_xticklabels(models, rotation=90)\n",
        "\n",
        "# plt.tight_layout()\n",
        "# plt.show()"
      ]
    },
    {
      "cell_type": "code",
      "execution_count": 22,
      "metadata": {
        "id": "HdWIAkXFaN_T"
      },
      "outputs": [],
      "source": [
        "# import seaborn as sns\n",
        "# import matplotlib.pyplot as plt\n",
        "\n",
        "# # Assuming types is a list of all unique relation types\n",
        "# # types = list(rel_confusion_matrix.keys())\n",
        "\n",
        "# # Create a 2D array to store the confusion matrix values\n",
        "# confusion_matrix_values = [[rel_confusion_matrix[actual_class][pred_class] for actual_class in types] for pred_class in types]\n",
        "\n",
        "# # Draw the confusion matrix\n",
        "# plt.figure(figsize=(10, 8))\n",
        "# sns.heatmap(confusion_matrix_values, annot=True, xticklabels=types, yticklabels=types, cmap=\"YlGnBu\")\n",
        "# plt.xlabel(\"Predicted Relation Type\")\n",
        "# plt.ylabel(\"Expected Relation Type\")\n",
        "# plt.title(\"Relation Type Confusion Matrix\")\n",
        "# plt.show()"
      ]
    },
    {
      "cell_type": "code",
      "execution_count": 23,
      "metadata": {
        "id": "KQrWjvoHX2jD"
      },
      "outputs": [],
      "source": [
        "# ent_pair_tp, ent_pair_fp, ent_pair_fn = 0, 0, 0\n",
        "# relation_type_tp, relation_type_fp, relation_type_fn = 0, 0, 0\n",
        "# novelty_tp, novelty_fp, novelty_fn, novelty_tn = 0, 0, 0, 0\n",
        "# total_p, total_n = 0,0\n",
        "# rel_confusion_matrix = defaultdict(lambda: defaultdict(int))\n",
        "\n",
        "# pmid =\"15485686\"\n",
        "# actual_ent_pairs = [tuple(sorted(ar[1:3])) for ar in actual_data[pmid]]\n",
        "# pred_ent_pairs = [tuple(sorted(pr[1:3])) for pr in pred_data[pmid]]\n",
        "\n",
        "\n",
        "\n",
        "# for entp in actual_ent_pairs:\n",
        "#   # print(entp)\n",
        "#   if entp in pred_ent_pairs:\n",
        "#     matched_relations = [r for r in pred_data[pmid] if tuple(sorted(r[1:3])) == tuple(sorted(entp))]\n",
        "#     print(matched_relations)\n",
        "#     ent_pair_tp+=1\n",
        "\n",
        "#     actual_type = [r[0] for r in actual_data[pmid] if tuple(sorted(r[1:3])) == tuple(sorted(entp))]\n",
        "#     pred_type = [r[0] for r in pred_data[pmid] if tuple(sorted(r[1:3])) == tuple(sorted(entp))]\n",
        "#     print(actual_type)\n",
        "#     print(pred_type)\n",
        "#     rel_confusion_matrix['actual_type']['pred_type'] += 1\n",
        "\n",
        "#     novelty(actual_data[pmid], pred_data[pmid], entp)\n",
        "\n",
        "#   else:\n",
        "#     ent_pair_fn+=1\n",
        "# for entp in pred_ent_pairs:\n",
        "#   if entp not in actual_ent_pairs:\n",
        "#     ent_pair_fp+=1\n",
        "# for r in pred_data[pmid]:\n",
        "#   if r in actual_data[pmid]:\n",
        "#     total_p +=1\n",
        "#   else:\n",
        "#     total_n +=1"
      ]
    },
    {
      "cell_type": "code",
      "execution_count": 24,
      "metadata": {
        "id": "luFb0ecdZHi5"
      },
      "outputs": [],
      "source": [
        "# pmid =\"15485686\"\n",
        "# actual_ent_pairs = [ar[1:3] for ar in actual_data[pmid]]\n",
        "# pred_ent_pairs = [tuple(sorted(pr[1:3])) for pr in pred_data[pmid]]\n",
        "# for ep in actual_ent_pairs:\n",
        "#   if ep in pred_ent_pairs:\n",
        "#     print(ep)"
      ]
    },
    {
      "cell_type": "code",
      "execution_count": 25,
      "metadata": {
        "id": "b3MBpDpuY52o"
      },
      "outputs": [],
      "source": [
        "# pmid =\"15485686\"\n",
        "# actual_ent_pairs = [ar[1:3] for ar in actual_data[pmid]]\n",
        "# pred_ent_pairs = [tuple(sorted(pr[1:3])) for pr in pred_data[pmid]]\n",
        "# for ep in pred_ent_pairs:\n",
        "#   if ep in actual_ent_pairs:\n",
        "#     print(ep)"
      ]
    },
    {
      "cell_type": "code",
      "execution_count": 26,
      "metadata": {
        "id": "cgzA_i5X24fV"
      },
      "outputs": [],
      "source": [
        "# # from collections import defaultdict\n",
        "\n",
        "# # # Initialize the confusion matrix\n",
        "# # confusion_matrix = defaultdict(lambda: defaultdict(int))\n",
        "\n",
        "# # # Access and update the confusion matrix\n",
        "# # for expected_class, actual_class in your_data:\n",
        "# #     confusion_matrix[expected_class][actual_class] += 1\n",
        "\n",
        "# # Get the list of unique classes\n",
        "# classes = list(set(list(confusion_matrix.keys()) + [actual_class for row in confusion_matrix.values() for actual_class in row.keys()]))\n",
        "\n",
        "# # Calculate metrics\n",
        "# for expected_class in types:\n",
        "#     tp = confusion_matrix[expected_class][expected_class]\n",
        "#     fp = sum(confusion_matrix[other_class][expected_class] for other_class in classes if other_class != expected_class)\n",
        "#     fn = sum(confusion_matrix[expected_class][other_class] for other_class in classes if other_class != expected_class)\n",
        "\n",
        "#     precision = tp / (tp + fp) if (tp + fp) > 0 else 0\n",
        "#     recall = tp / (tp + fn) if (tp + fn) > 0 else 0\n",
        "#     f1_score = 2 * (precision * recall) / (precision + recall) if (precision + recall) > 0 else 0\n",
        "\n",
        "#     print(f\"Class {expected_class}:\")\n",
        "#     print(f\"Precision: {precision:.4f}\")\n",
        "#     print(f\"Recall: {recall:.4f}\")\n",
        "#     print(f\"F1-score: {f1_score:.4f}\")\n",
        "#     print()"
      ]
    },
    {
      "cell_type": "code",
      "execution_count": 27,
      "metadata": {
        "id": "RSWfrztU4AKe"
      },
      "outputs": [],
      "source": [
        "# def compute_metrics(expected, actual):\n",
        "#     # Parse the expected and actual outputs\n",
        "#     pred_data = parse_output(\"/content/test_pred_5_shots_ent_id.txt\")\n",
        "#     actual_data = parse_output(\"/content/test_real_out.txt\")\n",
        "\n",
        "#     # Initialize counters\n",
        "#     entity_pair_tp, entity_pair_fp, entity_pair_fn = 0, 0, 0\n",
        "#     relation_type_tp, relation_type_fp, relation_type_fn = 0, 0, 0\n",
        "#     novelty_tp, novelty_fp, novelty_fn = 0, 0, 0\n",
        "#     total_tp, total_fp, total_fn = 0,0,0\n",
        "\n",
        "#     # Iterate over expected data and compare with pred data\n",
        "#     for pmid, relations in actual_data.items():\n",
        "#         for relation in relations:\n",
        "#             if relation[1] <= relation[2]:\n",
        "#               entity_pair = (relation[1], relation[2])\n",
        "#             else:\n",
        "#               entity_pair = (relation[2], relation[1])\n",
        "#             relation_type = relation[0]\n",
        "#             novelty = relation[3]\n",
        "\n",
        "\n",
        "\n",
        "#             # Check if the entity pair is present in the pred data\n",
        "#             if pmid in pred_data and entity_pair in [r[1:3] for r in pred_data[pmid]]:\n",
        "#                 entity_pair_tp += 1\n",
        "#                 print(\"tp: \" + relation)\n",
        "\n",
        "#                 # Check if the relation type is correct\n",
        "#                 if relation_type == [r[0] for r in pred_data[pmid] if r[1:3] == entity_pair][0]:\n",
        "#                     relation_type_tp += 1\n",
        "\n",
        "#                 else:\n",
        "#                     relation_type_fp += 1\n",
        "\n",
        "#                 # Check if the novelty is correct\n",
        "#                 if novelty == [r[3] for r in pred_data[pmid] if r[1:3] == entity_pair][0]:\n",
        "#                     novelty_tp += 1\n",
        "#                 else:\n",
        "#                     novelty_fp += 1\n",
        "#             else:\n",
        "#                 entity_pair_fn += 1\n",
        "#                 relation_type_fn += 1\n",
        "#                 novelty_fn += 1\n",
        "\n",
        "#     # Calculate metrics for entity pairs\n",
        "#     entity_pair_precision = entity_pair_tp / (entity_pair_tp + entity_pair_fp) if (entity_pair_tp + entity_pair_fp) > 0 else 0\n",
        "#     entity_pair_recall = entity_pair_tp / (entity_pair_tp + entity_pair_fn) if (entity_pair_tp + entity_pair_fn) > 0 else 0\n",
        "#     entity_pair_f1 = 2 * (entity_pair_precision * entity_pair_recall) / (entity_pair_precision + entity_pair_recall) if (entity_pair_precision + entity_pair_recall) > 0 else 0\n",
        "\n",
        "#     # Calculate metrics for relation types\n",
        "#     relation_type_precision = relation_type_tp / (relation_type_tp + relation_type_fp) if (relation_type_tp + relation_type_fp) > 0 else 0\n",
        "#     relation_type_recall = relation_type_tp / (relation_type_tp + relation_type_fn) if (relation_type_tp + relation_type_fn) > 0 else 0\n",
        "#     relation_type_f1 = 2 * (relation_type_precision * relation_type_recall) / (relation_type_precision + relation_type_recall) if (relation_type_precision + relation_type_recall) > 0 else 0\n",
        "\n",
        "#     # Calculate metrics for novelty\n",
        "#     novelty_precision = novelty_tp / (novelty_tp + novelty_fp) if (novelty_tp + novelty_fp) > 0 else 0\n",
        "#     novelty_recall = novelty_tp / (novelty_tp + novelty_fn) if (novelty_tp + novelty_fn) > 0 else 0\n",
        "#     novelty_f1 = 2 * (novelty_precision * novelty_recall) / (novelty_precision + novelty_recall) if (novelty_precision + novelty_recall) > 0 else 0\n",
        "\n",
        "#     return {\n",
        "#         'entity_pair': {'precision': entity_pair_precision, 'recall': entity_pair_recall, 'f1': entity_pair_f1},\n",
        "#         'relation_type': {'precision': relation_type_precision, 'recall': relation_type_recall, 'f1': relation_type_f1},\n",
        "#         'novelty': {'precision': novelty_precision, 'recall': novelty_recall, 'f1': novelty_f1}\n",
        "#     }"
      ]
    },
    {
      "cell_type": "code",
      "execution_count": 28,
      "metadata": {
        "id": "CImtV0Zx4Eu3"
      },
      "outputs": [],
      "source": [
        "\n",
        "\n",
        "# metrics = compute_metrics(actual_file, pred_file)\n",
        "# print('Entity Pair Metrics:')\n",
        "# print(f'Precision: {metrics[\"entity_pair\"][\"precision\"]:.4f}')\n",
        "# print(f'Recall: {metrics[\"entity_pair\"][\"recall\"]:.4f}')\n",
        "# print(f'F1-score: {metrics[\"entity_pair\"][\"f1\"]:.4f}')\n",
        "\n",
        "# print('\\nRelation Type Metrics:')\n",
        "# print(f'Precision: {metrics[\"relation_type\"][\"precision\"]:.4f}')\n",
        "# print(f'Recall: {metrics[\"relation_type\"][\"recall\"]:.4f}')\n",
        "# print(f'F1-score: {metrics[\"relation_type\"][\"f1\"]:.4f}')\n",
        "\n",
        "# print('\\nNovelty Metrics:')\n",
        "# print(f'Precision: {metrics[\"novelty\"][\"precision\"]:.4f}')\n",
        "# print(f'Recall: {metrics[\"novelty\"][\"recall\"]:.4f}')\n",
        "# print(f'F1-score: {metrics[\"novelty\"][\"f1\"]:.4f}')"
      ]
    },
    {
      "cell_type": "code",
      "execution_count": 29,
      "metadata": {
        "id": "ITl2vt-zI8eI"
      },
      "outputs": [],
      "source": [
        "# entity_pair_tp, entity_pair_fp, entity_pair_fn = 0, 0, 0\n",
        "# relation_type_tp, relation_type_fp, relation_type_fn = 0, 0, 0\n",
        "# novelty_tp, novelty_fp, novelty_fn = 0, 0, 0\n",
        "# total_tp, total_fp, total_fn = 0,0,0\n",
        "# rel_confusion_matrix = defaultdict(lambda: defaultdict(int))\n",
        "\n",
        "# pmid = \"pmid:15485686\"\n",
        "# relations = actual_data[pmid]\n",
        "# for relation in relations:\n",
        "#   if relation[1] <= relation[2]:\n",
        "#     entity_pair = (relation[1], relation[2])\n",
        "#   else:\n",
        "#     entity_pair = (relation[2], relation[1])\n",
        "#   relation_type = relation[0]\n",
        "#   novelty = relation[3]\n",
        "\n",
        "#   # print(entity_pair)\n",
        "#   # print(relation_type)\n",
        "#   # print(novelty)\n",
        "\n",
        "#   if pmid in pred_data and match_entity_pair(entity_pair, pred_data[pmid]):\n",
        "#     entity_pair_tp += 1\n",
        "#     print(\"tp-pair: \" + relation)\n",
        "\n",
        "#     pred_relation = [r for r in pred_data[pmid] if entity_pair == r[[1:3]]]\n",
        "\n",
        "#     #check if the entity pair is in the predicted data and it only has one relation\n",
        "#     if len(pred_relation) != 1:\n",
        "#       entity_pair_fn += 1\n",
        "#     else:\n",
        "#       entity_pair_tp += 1\n",
        "#       if pred_relation[0] == relation_type:\n",
        "#           relation_type_tp += 1\n",
        "#           print(\"tp-type: \" + relation)\n",
        "#         else:\n",
        "#           relation_type_fp += 1\n",
        "\n",
        "#     for r in pred_data[pmid]:\n",
        "#       if r[1:3] == entity_pair:\n",
        "\n",
        "#         if r[0] == relation_type:\n",
        "#           relation_type_tp += 1\n",
        "#           print(\"tp-type: \" + relation)\n",
        "#         else:\n",
        "#           relation_type_fp += 1\n",
        "\n",
        "#         if r[3] == novelty:\n",
        "#           novelty_tp += 1\n",
        "#           print(\"tp-novel: \" + relation)\n",
        "#         else:\n",
        "#           novelty_fp += 1\n",
        "\n",
        "#         if r[0] == relation_type and r[3] ==novelty:\n",
        "#           relation_type_tp += 1\n",
        "#           print(\"tp-type: \" + relation)\n",
        "#         else:\n",
        "#           total_fp += 1\n",
        "#   else:\n",
        "#     entity_pair_fn += 1\n",
        "#     # relation_type_fn += 1\n",
        "#     # novelty_fn += 1\n",
        "\n",
        "\n",
        "\n",
        "#     if relation_type == [r[0] for r in pred_data[pmid] if r[1:3] == entity_pair][0]:\n",
        "#         total_tp += 1\n",
        "#         print(\"tp-total: \" + relation)\n",
        "\n",
        "#     else:\n",
        "#         relation_type_fp += 1\n",
        "\n",
        "#     # Check if the novelty is correct\n",
        "#     if novelty == [r[3] for r in pred_data[pmid] if r[1:3] == entity_pair][0]:\n",
        "#         novelty_tp += 1\n",
        "#         print(\"tp-novel: \" + relation)\n",
        "#     else:\n",
        "#         novelty_fp += 1\n",
        "#   else:\n",
        "#     entity_pair_fn += 1\n",
        "#     relation_type_fn += 1\n",
        "#     novelty_fn += 1"
      ]
    },
    {
      "cell_type": "code",
      "execution_count": 30,
      "metadata": {
        "id": "B-bk0u3UrIO2"
      },
      "outputs": [],
      "source": [
        "\n",
        "# actual_ent_pairs = [ar[1:3] for ar in actual_data[pmid]]\n",
        "# pred_ent_pairs = [pr[1:3] for pr in pred_data[pmid]]\n",
        "\n",
        "# for entp in actual_ent_pairs:\n",
        "#   match_pred = [r for r in pred_data[pmid] if r[1:3] == entp]\n",
        "#   if len(match_pred) > 1:\n",
        "#     print(\"ent_pair with more than one relation:\"+'\\n'+ match_pred)\n",
        "#   elif entp in pred_ent_pairs:\n",
        "#     ent_pair_tp+=1\n",
        "\n",
        "#     actual_type = [r[0] for r in actual_data if entp == r[1:3]]\n",
        "#     pred_type = [r[0] for r in pred_data if entp == r[1:3]]\n",
        "#     rel_confusion_matrix['actual_type']['pred_type'] += 1\n",
        "\n",
        "#     novelty(actual_dat[pmid], pred_data[pmid], entp)\n",
        "\n",
        "#   else:\n",
        "#     ent_pair_fn+=1\n",
        "# for entp in pred_ent_pairs:\n",
        "#   if entp not in actual_ent_pairs:\n",
        "#     ent_pair_fp+=1"
      ]
    },
    {
      "cell_type": "code",
      "execution_count": 31,
      "metadata": {
        "id": "U5Wl7KK7b94u"
      },
      "outputs": [],
      "source": [
        "# import seaborn as sns\n",
        "# import matplotlib.pyplot as plt\n",
        "\n",
        "\n",
        "# # Assuming types is a list of all unique relation types\n",
        "# # types = list(rel_confusion_matrix.keys())\n",
        "\n",
        "# # Create a 2D array to store the confusion matrix values\n",
        "# confusion_matrix_values = [[rel_confusion_matrix[actual_class][pred_class] for pred_class in types + ['NA']] for actual_class in types]\n",
        "\n",
        "# # vmax = np.max(np.abs(confusion_matrix_values))\n",
        "\n",
        "# c = sns.cubehelix_palette(start=.001, rot=-.5, as_cmap=False)\n",
        "# # Draw the confusion matrix\n",
        "# plt.figure(figsize=(14, 10))\n",
        "# sns.heatmap(confusion_matrix_values, annot=True,fmt=\"d\", xticklabels=types + ['Not recognized'], yticklabels=types, cmap=c)\n",
        "# plt.xlabel(\"Predicted Relation Type\")\n",
        "# plt.ylabel(\"Actual Relation Type\")\n",
        "# plt.title(\"Relation Type Confusion Matrix\")\n",
        "# plt.show()"
      ]
    }
  ],
  "metadata": {
    "colab": {
      "provenance": [],
      "mount_file_id": "1Clu5kThZvNQ7mdKIwh8ep9eQPQzieb8o",
      "authorship_tag": "ABX9TyOOS10xiln02G02ojlfW04j",
      "include_colab_link": true
    },
    "kernelspec": {
      "display_name": "Python 3",
      "name": "python3"
    },
    "language_info": {
      "name": "python"
    }
  },
  "nbformat": 4,
  "nbformat_minor": 0
}