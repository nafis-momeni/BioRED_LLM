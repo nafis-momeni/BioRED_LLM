{
  "cells": [
    {
      "cell_type": "markdown",
      "metadata": {
        "id": "view-in-github",
        "colab_type": "text"
      },
      "source": [
        "<a href=\"https://colab.research.google.com/github/nafis-momeni/BioRED_LLM/blob/main/Tuning.ipynb\" target=\"_parent\"><img src=\"https://colab.research.google.com/assets/colab-badge.svg\" alt=\"Open In Colab\"/></a>"
      ]
    },
    {
      "cell_type": "code",
      "execution_count": 1,
      "metadata": {
        "colab": {
          "base_uri": "https://localhost:8080/"
        },
        "id": "lP9Oa9O078ev",
        "outputId": "c2347f11-17fa-4da3-bbdf-878299eb270a"
      },
      "outputs": [
        {
          "output_type": "stream",
          "name": "stdout",
          "text": [
            "Requirement already satisfied: google-cloud-aiplatform in /usr/local/lib/python3.10/dist-packages (1.56.0)\n",
            "Requirement already satisfied: google-api-core[grpc]!=2.0.*,!=2.1.*,!=2.2.*,!=2.3.*,!=2.4.*,!=2.5.*,!=2.6.*,!=2.7.*,<3.0.0dev,>=1.34.1 in /usr/local/lib/python3.10/dist-packages (from google-cloud-aiplatform) (2.11.1)\n",
            "Requirement already satisfied: google-auth<3.0.0dev,>=2.14.1 in /usr/local/lib/python3.10/dist-packages (from google-cloud-aiplatform) (2.27.0)\n",
            "Requirement already satisfied: proto-plus<2.0.0dev,>=1.22.0 in /usr/local/lib/python3.10/dist-packages (from google-cloud-aiplatform) (1.24.0)\n",
            "Requirement already satisfied: protobuf!=3.20.0,!=3.20.1,!=4.21.0,!=4.21.1,!=4.21.2,!=4.21.3,!=4.21.4,!=4.21.5,<5.0.0dev,>=3.19.5 in /usr/local/lib/python3.10/dist-packages (from google-cloud-aiplatform) (3.20.3)\n",
            "Requirement already satisfied: packaging>=14.3 in /usr/local/lib/python3.10/dist-packages (from google-cloud-aiplatform) (24.1)\n",
            "Requirement already satisfied: google-cloud-storage<3.0.0dev,>=1.32.0 in /usr/local/lib/python3.10/dist-packages (from google-cloud-aiplatform) (2.8.0)\n",
            "Requirement already satisfied: google-cloud-bigquery!=3.20.0,<4.0.0dev,>=1.15.0 in /usr/local/lib/python3.10/dist-packages (from google-cloud-aiplatform) (3.21.0)\n",
            "Requirement already satisfied: google-cloud-resource-manager<3.0.0dev,>=1.3.3 in /usr/local/lib/python3.10/dist-packages (from google-cloud-aiplatform) (1.12.3)\n",
            "Requirement already satisfied: shapely<3.0.0dev in /usr/local/lib/python3.10/dist-packages (from google-cloud-aiplatform) (2.0.4)\n",
            "Requirement already satisfied: pydantic<3 in /usr/local/lib/python3.10/dist-packages (from google-cloud-aiplatform) (2.7.4)\n",
            "Requirement already satisfied: docstring-parser<1 in /usr/local/lib/python3.10/dist-packages (from google-cloud-aiplatform) (0.16)\n",
            "Requirement already satisfied: googleapis-common-protos<2.0.dev0,>=1.56.2 in /usr/local/lib/python3.10/dist-packages (from google-api-core[grpc]!=2.0.*,!=2.1.*,!=2.2.*,!=2.3.*,!=2.4.*,!=2.5.*,!=2.6.*,!=2.7.*,<3.0.0dev,>=1.34.1->google-cloud-aiplatform) (1.63.1)\n",
            "Requirement already satisfied: requests<3.0.0.dev0,>=2.18.0 in /usr/local/lib/python3.10/dist-packages (from google-api-core[grpc]!=2.0.*,!=2.1.*,!=2.2.*,!=2.3.*,!=2.4.*,!=2.5.*,!=2.6.*,!=2.7.*,<3.0.0dev,>=1.34.1->google-cloud-aiplatform) (2.31.0)\n",
            "Requirement already satisfied: grpcio<2.0dev,>=1.33.2 in /usr/local/lib/python3.10/dist-packages (from google-api-core[grpc]!=2.0.*,!=2.1.*,!=2.2.*,!=2.3.*,!=2.4.*,!=2.5.*,!=2.6.*,!=2.7.*,<3.0.0dev,>=1.34.1->google-cloud-aiplatform) (1.64.1)\n",
            "Requirement already satisfied: grpcio-status<2.0.dev0,>=1.33.2 in /usr/local/lib/python3.10/dist-packages (from google-api-core[grpc]!=2.0.*,!=2.1.*,!=2.2.*,!=2.3.*,!=2.4.*,!=2.5.*,!=2.6.*,!=2.7.*,<3.0.0dev,>=1.34.1->google-cloud-aiplatform) (1.48.2)\n",
            "Requirement already satisfied: cachetools<6.0,>=2.0.0 in /usr/local/lib/python3.10/dist-packages (from google-auth<3.0.0dev,>=2.14.1->google-cloud-aiplatform) (5.3.3)\n",
            "Requirement already satisfied: pyasn1-modules>=0.2.1 in /usr/local/lib/python3.10/dist-packages (from google-auth<3.0.0dev,>=2.14.1->google-cloud-aiplatform) (0.4.0)\n",
            "Requirement already satisfied: rsa<5,>=3.1.4 in /usr/local/lib/python3.10/dist-packages (from google-auth<3.0.0dev,>=2.14.1->google-cloud-aiplatform) (4.9)\n",
            "Requirement already satisfied: google-cloud-core<3.0.0dev,>=1.6.0 in /usr/local/lib/python3.10/dist-packages (from google-cloud-bigquery!=3.20.0,<4.0.0dev,>=1.15.0->google-cloud-aiplatform) (2.3.3)\n",
            "Requirement already satisfied: google-resumable-media<3.0dev,>=0.6.0 in /usr/local/lib/python3.10/dist-packages (from google-cloud-bigquery!=3.20.0,<4.0.0dev,>=1.15.0->google-cloud-aiplatform) (2.7.1)\n",
            "Requirement already satisfied: python-dateutil<3.0dev,>=2.7.2 in /usr/local/lib/python3.10/dist-packages (from google-cloud-bigquery!=3.20.0,<4.0.0dev,>=1.15.0->google-cloud-aiplatform) (2.8.2)\n",
            "Requirement already satisfied: grpc-google-iam-v1<1.0.0dev,>=0.12.4 in /usr/local/lib/python3.10/dist-packages (from google-cloud-resource-manager<3.0.0dev,>=1.3.3->google-cloud-aiplatform) (0.13.0)\n",
            "Requirement already satisfied: annotated-types>=0.4.0 in /usr/local/lib/python3.10/dist-packages (from pydantic<3->google-cloud-aiplatform) (0.7.0)\n",
            "Requirement already satisfied: pydantic-core==2.18.4 in /usr/local/lib/python3.10/dist-packages (from pydantic<3->google-cloud-aiplatform) (2.18.4)\n",
            "Requirement already satisfied: typing-extensions>=4.6.1 in /usr/local/lib/python3.10/dist-packages (from pydantic<3->google-cloud-aiplatform) (4.12.2)\n",
            "Requirement already satisfied: numpy<3,>=1.14 in /usr/local/lib/python3.10/dist-packages (from shapely<3.0.0dev->google-cloud-aiplatform) (1.25.2)\n",
            "Requirement already satisfied: google-crc32c<2.0dev,>=1.0 in /usr/local/lib/python3.10/dist-packages (from google-resumable-media<3.0dev,>=0.6.0->google-cloud-bigquery!=3.20.0,<4.0.0dev,>=1.15.0->google-cloud-aiplatform) (1.5.0)\n",
            "Requirement already satisfied: pyasn1<0.7.0,>=0.4.6 in /usr/local/lib/python3.10/dist-packages (from pyasn1-modules>=0.2.1->google-auth<3.0.0dev,>=2.14.1->google-cloud-aiplatform) (0.6.0)\n",
            "Requirement already satisfied: six>=1.5 in /usr/local/lib/python3.10/dist-packages (from python-dateutil<3.0dev,>=2.7.2->google-cloud-bigquery!=3.20.0,<4.0.0dev,>=1.15.0->google-cloud-aiplatform) (1.16.0)\n",
            "Requirement already satisfied: charset-normalizer<4,>=2 in /usr/local/lib/python3.10/dist-packages (from requests<3.0.0.dev0,>=2.18.0->google-api-core[grpc]!=2.0.*,!=2.1.*,!=2.2.*,!=2.3.*,!=2.4.*,!=2.5.*,!=2.6.*,!=2.7.*,<3.0.0dev,>=1.34.1->google-cloud-aiplatform) (3.3.2)\n",
            "Requirement already satisfied: idna<4,>=2.5 in /usr/local/lib/python3.10/dist-packages (from requests<3.0.0.dev0,>=2.18.0->google-api-core[grpc]!=2.0.*,!=2.1.*,!=2.2.*,!=2.3.*,!=2.4.*,!=2.5.*,!=2.6.*,!=2.7.*,<3.0.0dev,>=1.34.1->google-cloud-aiplatform) (3.7)\n",
            "Requirement already satisfied: urllib3<3,>=1.21.1 in /usr/local/lib/python3.10/dist-packages (from requests<3.0.0.dev0,>=2.18.0->google-api-core[grpc]!=2.0.*,!=2.1.*,!=2.2.*,!=2.3.*,!=2.4.*,!=2.5.*,!=2.6.*,!=2.7.*,<3.0.0dev,>=1.34.1->google-cloud-aiplatform) (2.0.7)\n",
            "Requirement already satisfied: certifi>=2017.4.17 in /usr/local/lib/python3.10/dist-packages (from requests<3.0.0.dev0,>=2.18.0->google-api-core[grpc]!=2.0.*,!=2.1.*,!=2.2.*,!=2.3.*,!=2.4.*,!=2.5.*,!=2.6.*,!=2.7.*,<3.0.0dev,>=1.34.1->google-cloud-aiplatform) (2024.6.2)\n"
          ]
        }
      ],
      "source": [
        "!pip install --upgrade google-cloud-aiplatform"
      ]
    },
    {
      "cell_type": "code",
      "execution_count": 2,
      "metadata": {
        "id": "UxXhZPuc8nTy",
        "outputId": "fe27314f-4a47-46c9-e742-126f89a05436",
        "colab": {
          "base_uri": "https://localhost:8080/"
        }
      },
      "outputs": [
        {
          "output_type": "stream",
          "name": "stdout",
          "text": [
            "Go to the following link in your browser, and complete the sign-in prompts:\n",
            "\n",
            "    https://accounts.google.com/o/oauth2/auth?response_type=code&client_id=764086051850-6qr4p6gpi6hn506pt8ejuq83di341hur.apps.googleusercontent.com&redirect_uri=https%3A%2F%2Fsdk.cloud.google.com%2Fapplicationdefaultauthcode.html&scope=openid+https%3A%2F%2Fwww.googleapis.com%2Fauth%2Fuserinfo.email+https%3A%2F%2Fwww.googleapis.com%2Fauth%2Fcloud-platform+https%3A%2F%2Fwww.googleapis.com%2Fauth%2Fsqlservice.login&state=RkdvT11gx2KgNjJfjAoM4R5Tjfa2ew&prompt=consent&token_usage=remote&access_type=offline&code_challenge=7JOsQWcaiZkk9efopgeO4OYbJNj8Kj95-S9WzoGSGR8&code_challenge_method=S256\n",
            "\n",
            "Once finished, enter the verification code provided in your browser: 4/0ATx3LY4dWhDldFTOl-B8rpavB48iZ98VG4yP4wBXoEQ3waOOm1boaXZodELrhyqdoY9cYA\n",
            "\n",
            "Credentials saved to file: [/content/.config/application_default_credentials.json]\n",
            "\n",
            "These credentials will be used by any library that requests Application Default Credentials (ADC).\n",
            "\u001b[1;33mWARNING:\u001b[0m \n",
            "Cannot find a quota project to add to ADC. You might receive a \"quota exceeded\" or \"API not enabled\" error. Run $ gcloud auth application-default set-quota-project to add a quota project.\n"
          ]
        }
      ],
      "source": [
        "!gcloud auth application-default login"
      ]
    },
    {
      "cell_type": "code",
      "execution_count": 3,
      "metadata": {
        "colab": {
          "base_uri": "https://localhost:8080/"
        },
        "id": "2za_-pCv9CXU",
        "outputId": "2ae6cb68-03a1-4114-8744-9daeef67fb8d"
      },
      "outputs": [
        {
          "output_type": "stream",
          "name": "stdout",
          "text": [
            "\n",
            "Credentials saved to file: [/content/.config/application_default_credentials.json]\n",
            "\n",
            "These credentials will be used by any library that requests Application Default Credentials (ADC).\n",
            "\n",
            "Quota project \"solid-mantra-422614-h6\" was added to ADC which can be used by Google client libraries for billing and quota. Note that some services may still bill the project owning the resource.\n"
          ]
        }
      ],
      "source": [
        "!gcloud auth application-default set-quota-project solid-mantra-422614-h6"
      ]
    },
    {
      "cell_type": "code",
      "execution_count": 4,
      "metadata": {
        "id": "kWIuwKG2_oWE"
      },
      "outputs": [],
      "source": [
        "# Install the client library and import necessary modules.\n",
        "# import google.generativeai as genai\n",
        "import time\n",
        "import json\n",
        "import requests\n",
        "import random\n",
        "\n",
        "import IPython.display\n",
        "from IPython.display import Markdown\n",
        "\n"
      ]
    },
    {
      "cell_type": "code",
      "execution_count": 5,
      "metadata": {
        "id": "5wsOQUcgyHy1"
      },
      "outputs": [],
      "source": [
        "with open('/content/new_test.json') as file:\n",
        "    new_test = json.load(file)\n",
        "# with open('/content/new_dev.json') as file:\n",
        "#     new_dev = json.load(file)\n",
        "# with open('/content/new_train.json') as file:\n",
        "#     new_train = json.load(file)"
      ]
    },
    {
      "cell_type": "code",
      "source": [
        "# @title init prompt\n",
        "init_prompt = '''You are an AI assistant specializing in extracting biomedical relations from scientific articles. Your task is to identify relevant relations between biomedical entities in the given text and output them in a structured format.\n",
        "\n",
        "Input Format:\n",
        "1. Title of the article\n",
        "2. Abstract text\n",
        "3. List of entities in the format: [Entity Names], Entity ID, Entity Type\n",
        "\n",
        "Output Format:\n",
        "Relation Type, Entity 1 ID, Entity 2 ID, Novelty\n",
        "\n",
        "Entity Types:\n",
        "- Gene: Genes, proteins, mRNA, and other gene products (NCBI Gene ID)\n",
        "- Chemical: Chemicals and drugs (MeSH ID)\n",
        "- Disease: Diseases, symptoms, and phenotypes (MeSH/OMIM ID)\n",
        "- Variant: Genomic and protein variants (dbSNP ID or component representation)\n",
        "- Species: Species names (NCBI Taxonomy ID)\n",
        "- CellLine: Cell line names (Cellosaurus ID)\n",
        "\n",
        "Relation Types:\n",
        "- Association: Relation between two entities where the association is unclear\n",
        "- Comparison: Comparison of effects or properties of two chemicals/drugs\n",
        "- Conversion: Transformation of one chemical into another\n",
        "- Cotreatment: Use of two or more chemicals/drugs as combination therapy\n",
        "- Negative_Correlation: Inverse or opposing effect between two entities\n",
        "- Positive_Correlation: Direct or reinforcing effect between two entities\n",
        "- Bind: Physical interaction or binding between two entities\n",
        "- Drug_Interaction: Pharmacological interaction between two co-administered drugs\n",
        "\n",
        "Novelty:\n",
        "- Novel: Relation related to the main point or novelty of the abstract\n",
        "- No: Relation providing background information or context\n",
        "\n",
        "Guidelines:\n",
        "- Extract all relevant relations between the given entities from the abstract text\n",
        "- Ensure the output follows the specified format exactly\n",
        "- Each entiy pairs has only one relation. there should not be two relations with the same entities in results.\n",
        "\n",
        "#Example Input1:\n",
        "The differential effects of bupivacaine and lidocaine on prostaglandin E2 release, cyclooxygenase gene expression and pain in a clinical pain model.\n",
        "BACKGROUND: In addition to blocking nociceptive input from surgical sites, long-acting local anesthetics might directly modulate inflammation. In the present study, we describe the proinflammatory effects of bupivacaine on local prostaglandin E2 (PGE2) production and cyclooxygenase (COX) gene expression that increases postoperative pain in human subjects. METHODS: Subjects (n = 114) undergoing extraction of impacted third molars received either 2% lidocaine or 0.5% bupivacaine before surgery and either rofecoxib 50 mg or placebo orally 90 min before surgery and for the following 48 h. Oral mucosal biopsies were taken before surgery and 48 h after surgery. After extraction, a microdialysis probe was placed at the surgical site for PGE2 and thromboxane B2 (TXB2) measurements. RESULTS: The bupivacaine/rofecoxib group reported significantly less pain, as assessed by a visual analog scale, compared with the other three treatment groups over the first 4 h. However, the bupivacaine/placebo group reported significantly more pain at 24 h and PGE2 levels during the first 4 h were significantly higher than the other three treatment groups. Moreover, bupivacaine significantly increased COX-2 gene expression at 48 h as compared with the lidocaine/placebo group. Thromboxane levels were not significantly affected by any of the treatments, indicating that the effects seen were attributable to inhibition of COX-2, but not COX-1. CONCLUSIONS: These results suggest that bupivacaine stimulates COX-2 gene expression after tissue injury, which is associated with higher PGE2 production and pain after the local anesthetic effect dissipates.\n",
        "\n",
        "[bupivacaine],D002045,ChemicalEntity\n",
        "[lidocaine],D008012,ChemicalEntity\n",
        "[prostaglandin E2/ PGE2],5732,GeneOrGeneProduct\n",
        "[cyclooxygenase/ COX],4512,4513,GeneOrGeneProduct\n",
        "[pain],D010146,DiseaseOrPhenotypicFeature\n",
        "[inflammation],D007249,DiseaseOrPhenotypicFeature\n",
        "[postoperative pain],D010149,DiseaseOrPhenotypicFeature\n",
        "[human],9606,OrganismTaxon\n",
        "[rofecoxib],C116926,ChemicalEntity\n",
        "[thromboxane B2/ TXB2],D013929,ChemicalEntity\n",
        "[COX-2],4513,GeneOrGeneProduct\n",
        "[Thromboxane],D013931,ChemicalEntity\n",
        "[COX-1],4512,GeneOrGeneProduct\n",
        "[tissue injury],D017695,DiseaseOrPhenotypicFeature\n",
        "\n",
        "#Example Output1:\n",
        "Association,4512,D010149,Novel\n",
        "Negative_Correlation,D013931,4513,Novel\n",
        "Association,4513,D010149,Novel\n",
        "Positive_Correlation,4513,5732,Novel\n",
        "Association,4513,D010146,Novel\n",
        "Positive_Correlation,5732,D010149,Novel\n",
        "Negative_Correlation,C116926,D010146,Novel\n",
        "Positive_Correlation,D002045,D010149,Novel\n",
        "Association,D002045,4512,Novel\n",
        "Association,D002045,D017695,Novel\n",
        "Positive_Correlation,D002045,4513,Novel\n",
        "Positive_Correlation,D002045,5732,Novel\n",
        "Positive_Correlation,D002045,D010146,Novel\n",
        "Cotreatment,D002045,C116926,Novel\n",
        "Comparison,D002045,D008012,Novel\n",
        "\n",
        "#Example Input2:\n",
        "H3 histamine receptor-mediated activation of protein kinase Calpha inhibits the growth of cholangiocarcinoma in vitro and in vivo.\n",
        "Histamine regulates functions via four receptors (HRH1, HRH2, HRH3, and HRH4). The d-myo-inositol 1,4,5-trisphosphate (IP(3))/Ca(2+)/protein kinase C (PKC)/mitogen-activated protein kinase pathway regulates cholangiocarcinoma growth. We evaluated the role of HRH3 in the regulation of cholangiocarcinoma growth. Expression of HRH3 in intrahepatic and extrahepatic cell lines, normal cholangiocytes, and human tissue arrays was measured. In Mz-ChA-1 cells stimulated with (R)-(alpha)-(-)-methylhistamine dihydrobromide (RAMH), we measured (a) cell growth, (b) IP(3) and cyclic AMP levels, and (c) phosphorylation of PKC and mitogen-activated protein kinase isoforms. Localization of PKCalpha was visualized by immunofluorescence in cell smears and immunoblotting for PKCalpha in cytosol and membrane fractions. Following knockdown of PKCalpha, Mz-ChA-1 cells were stimulated with RAMH before evaluating cell growth and extracellular signal-regulated kinase (ERK)-1/2 phosphorylation. In vivo experiments were done in BALB/c nude mice. Mice were treated with saline or RAMH for 44 days and tumor volume was measured. Tumors were excised and evaluated for proliferation, apoptosis, and expression of PKCalpha, vascular endothelial growth factor (VEGF)-A, VEGF-C, VEGF receptor 2, and VEGF receptor 3. HRH3 expression was found in all cells. RAMH inhibited the growth of cholangiocarcinoma cells. RAMH increased IP(3) levels and PKCalpha phosphorylation and decreased ERK1/2 phosphorylation. RAMH induced a shift in the localization of PKCalpha expression from the cytosolic domain into the membrane region of Mz-ChA-1 cells. Silencing of PKCalpha prevented RAMH inhibition of Mz-ChA-1 cell growth and ablated RAMH effects on ERK1/2 phosphorylation. In vivo, RAMH decreased tumor growth and expression of VEGF and its receptors; PKCalpha expression was increased. RAMH inhibits cholangiocarcinoma growth by PKCalpha-dependent ERK1/2 dephosphorylation. Modulation of PKCalpha by histamine receptors may be important in regulating cholangiocarcinoma growth.\n",
        "\n",
        "[H3 histamine receptor/ HRH3],11255,GeneOrGeneProduct\n",
        "[protein kinase Calpha/ protein kinase C/ PKC/ PKCalpha],5578,GeneOrGeneProduct\n",
        "[cholangiocarcinoma],D018281,DiseaseOrPhenotypicFeature\n",
        "[Histamine],D006632,ChemicalEntity\n",
        "[HRH1],3269,GeneOrGeneProduct\n",
        "[HRH2],3274,GeneOrGeneProduct\n",
        "[HRH4],59340,GeneOrGeneProduct\n",
        "[d-myo-inositol 1,4,5-trisphosphate/ IP(3)],D015544,ChemicalEntity\n",
        "[Ca(2+)],D002118,ChemicalEntity\n",
        "[mitogen-activated protein kinase],5594,5595,GeneOrGeneProduct\n",
        "[human],9606,OrganismTaxon\n",
        "[Mz-ChA-1],CVCL_6932,CellLine\n",
        "[(R)-(alpha)-(-)-methylhistamine dihydrobromide/ RAMH],C069357,ChemicalEntity\n",
        "[cyclic AMP],D000242,ChemicalEntity\n",
        "[extracellular signal-regulated kinase (ERK)-1/2/ ERK1/2],5595,5594,GeneOrGeneProduct\n",
        "[BALB/c],CVCL_9101,CellLine\n",
        "[mice],10090,OrganismTaxon\n",
        "[tumor/ Tumors],D009369,DiseaseOrPhenotypicFeature\n",
        "[vascular endothelial growth factor (VEGF)-A],7422,GeneOrGeneProduct\n",
        "[VEGF-C],7424,GeneOrGeneProduct\n",
        "[VEGF receptor 2],3791,GeneOrGeneProduct\n",
        "[VEGF receptor 3],2324,GeneOrGeneProduct\n",
        "[VEGF],7422,7424,GeneOrGeneProduct\n",
        "[histamine receptors],11255,3269,3274,59340,GeneOrGeneProduct\n",
        "\n",
        "#Example Output2:\n",
        "Association,D002118,D018281,No\n",
        "Association,D015544,D018281,No\n",
        "Association,59340,D018281,Novel\n",
        "Association,3274,D018281,Novel\n",
        "Association,3269,D018281,Novel\n",
        "Bind,D006632,59340,No\n",
        "Bind,D006632,3274,No\n",
        "Bind,D006632,3269,No\n",
        "Bind,D006632,11255,No\n",
        "Negative_Correlation,C069357,7424,Novel\n",
        "Negative_Correlation,C069357,7422,Novel\n",
        "Positive_Correlation,C069357,D015544,Novel\n",
        "Negative_Correlation,C069357,D009369,Novel\n",
        "Negative_Correlation,C069357,5595,Novel\n",
        "Negative_Correlation,C069357,5594,Novel\n",
        "Negative_Correlation,C069357,D018281,Novel\n",
        "Association,5595,D018281,No\n",
        "Association,5594,D018281,No\n",
        "Association,5578,59340,Novel\n",
        "Association,5578,3274,Novel\n",
        "Association,5578,3269,Novel\n",
        "Positive_Correlation,5578,C069357,Novel\n",
        "Association,5578,5595,Novel\n",
        "Association,5578,5594,Novel\n",
        "Negative_Correlation,5578,D018281,No\n",
        "Association,11255,D018281,Novel\n",
        "Positive_Correlation,11255,5578,Novel\n",
        "\n",
        "#Example Input3:\n",
        "Sepsis-induced changes in amino acid transporters and leucine signaling via mTOR in skeletal muscle.\n",
        "The present study tested the hypothesis that sepsis-induced leucine (Leu) resistance in skeletal muscle is associated with a down-regulation of amino acid transporters important in regulating Leu flux or an impairment in the formation of the Leu-sensitive mTOR-Ragulator complex. Sepsis in adult male rats decreased basal protein synthesis in gastrocnemius, associated with a reduction in mTOR activation as indicated by decreased 4E-BP1 and S6K1 phosphorylation. The ability of oral Leu to increase protein synthesis and mTOR kinase after 1 h was largely prevented in sepsis. Sepsis increased CAT1, LAT2 and SNAT2 mRNA content two- to fourfold, but only the protein content for CAT1 (20 % decrease) differed significantly. Conversely, sepsis decreased the proton-assisted amino acid transporter (PAT)-2 mRNA by 60 %, but without a coordinate change in PAT2 protein. There was no sepsis or Leu effect on the protein content for RagA-D, LAMTOR-1 and -2, raptor, Rheb or mTOR in muscle. The binding of mTOR, PRAS40 and RagC to raptor did not differ for control and septic muscle in the basal condition; however, the Leu-induced decrease in PRAS40 raptor and increase in RagC raptor seen in control muscle was absent in sepsis. The intracellular Leu concentration was increased in septic muscle, compared to basal control conditions, and oral Leu further increased the intracellular Leu concentration similarly in both control and septic rats. Hence, while alterations in select amino acid transporters are not associated with development of sepsis-induced Leu resistance, the Leu-stimulated binding of raptor with RagC and the recruitment of mTOR/raptor to the endosome-lysosomal compartment may partially explain the inability of Leu to fully activate mTOR and muscle protein synthesis.\n",
        "\n",
        "[Sepsis],D018805,DiseaseOrPhenotypicFeature\n",
        "[amino acid transporters],246235,25648,29642,84551,GeneOrGeneProduct\n",
        "[leucine/ Leu],D007930,ChemicalEntity\n",
        "[mTOR],56718,GeneOrGeneProduct\n",
        "[Ragulator complex/ LAMTOR-1 and -2],295234,308869,GeneOrGeneProduct\n",
        "[rats],10116,OrganismTaxon\n",
        "[4E-BP1],116636,GeneOrGeneProduct\n",
        "[S6K1],83840,GeneOrGeneProduct\n",
        "[CAT1],25648,GeneOrGeneProduct\n",
        "[LAT2],84551,GeneOrGeneProduct\n",
        "[SNAT2],29642,GeneOrGeneProduct\n",
        "[proton-assisted amino acid transporter (PAT)-2/ PAT2],246235,GeneOrGeneProduct\n",
        "[RagA-D],117043,117044,297960,298514,GeneOrGeneProduct\n",
        "[raptor],287871,GeneOrGeneProduct\n",
        "[Rheb],26954,GeneOrGeneProduct\n",
        "[PRAS40],292887,GeneOrGeneProduct\n",
        "[RagC],298514,GeneOrGeneProduct\n",
        "\n",
        "#Example Output3:\n",
        "Bind,292887,287871,No\n",
        "Bind,287871,298514,No\n",
        "Association,D007930,308869,No\n",
        "Association,D007930,295234,No\n",
        "Positive_Correlation,D007930,298514,Novel\n",
        "Negative_Correlation,D007930,292887,Novel\n",
        "Association,D007930,287871,Novel\n",
        "Association,D007930,D018805,Novel\n",
        "Positive_Correlation,D007930,56718,Novel\n",
        "Association,D018805,29642,Novel\n",
        "Association,D018805,84551,Novel\n",
        "Association,D018805,25648,Novel\n",
        "Negative_Correlation,D018805,56718,Novel\n",
        "Association,56718,308869,No\n",
        "Association,56718,295234,No\n",
        "Bind,56718,287871,No\n",
        "Association,56718,83840,Novel\n",
        "Association,56718,116636,Novel\n",
        "\n",
        "#Example Input4:\n",
        "Glucose metabolism in patients with schizophrenia treated with atypical antipsychotic agents: a frequently sampled intravenous glucose tolerance test and minimal model analysis.\n",
        "BACKGROUND: While the incidence of new-onset diabetes mellitus may be increasing in patients with schizophrenia treated with certain atypical antipsychotic agents, it remains unclear whether atypical agents are directly affecting glucose metabolism or simply increasing known risk factors for diabetes. OBJECTIVE: To study the 2 drugs most clearly implicated (clozapine and olanzapine) and risperidone using a frequently sampled intravenous glucose tolerance test. DESIGN: A cross-sectional design in stable, treated patients with schizophrenia evaluated using a frequently sampled intravenous glucose tolerance test and the Bergman minimal model analysis. SETTING: Subjects were recruited from an urban community mental health clinic and were studied at a general clinical research center. Patients Fifty subjects signed informed consent and 41 underwent the frequently sampled intravenous glucose tolerance test. Thirty-six nonobese subjects with schizophrenia or schizoaffective disorder, matched by body mass index and treated with either clozapine, olanzapine, or risperidone, were included in the analysis. MAIN OUTCOME MEASURES: Fasting plasma glucose and fasting serum insulin levels, insulin sensitivity index, homeostasis model assessment of insulin resistance, and glucose effectiveness. RESULTS: The mean +/- SD duration of treatment with the identified atypical antipsychotic agent was 68.3 +/- 28.9 months (clozapine), 29.5 +/- 17.5 months (olanzapine), and 40.9 +/- 33.7 (risperidone). Fasting serum insulin concentrations differed among groups (F(33) = 3.35; P = .047) (clozapine>olanzapine>risperidone) with significant differences between clozapine and risperidone (t(33) = 2.32; P = .03) and olanzapine and risperidone (t(33) = 2.15; P = .04). There was a significant difference in insulin sensitivity index among groups (F(33) = 10.66; P<.001) (clozapine<olanzapine<risperidone), with subjects who received clozapine and olanzapine exhibiting significant insulin resistance compared with subjects who were treated with risperidone (clozapine vs risperidone, t(33) = -4.29; P<.001; olanzapine vs risperidone, t(33) = -3.62; P = .001 [P<.001]). The homeostasis model assessment of insulin resistance also differed significantly among groups (F(33) = 4.92; P = .01) (clozapine>olanzapine>risperidone) (clozapine vs risperidone, t(33) = 2.94; P = .006; olanzapine vs risperidone, t(33) = 2.42; P = .02). There was a significant difference among groups in glucose effectiveness (F(30) = 4.18; P = .02) (clozapine<olanzapine<risperidone) with significant differences between clozapine and risperidone (t(30) = -2.59; P = .02) and olanzapine and risperidone (t(30) = -2.34, P = .03). CONCLUSIONS: Both nonobese clozapine- and olanzapine-treated groups displayed significant insulin resistance and impairment of glucose effectiveness compared with risperidone-treated subjects. Patients taking clozapine and olanzapine must be examined for insulin resistance and its consequences.\n",
        "\n",
        "[Glucose],D005947,ChemicalEntity\n",
        "[patients],9606,OrganismTaxon\n",
        "[schizophrenia],D012559,DiseaseOrPhenotypicFeature\n",
        "[antipsychotic agents/ antipsychotic agent],D014150,ChemicalEntity\n",
        "[diabetes mellitus/ diabetes],D003920,DiseaseOrPhenotypicFeature\n",
        "[clozapine],D003024,ChemicalEntity\n",
        "[olanzapine],C076029,ChemicalEntity\n",
        "[risperidone],D018967,ChemicalEntity\n",
        "[schizoaffective disorder],D011618,DiseaseOrPhenotypicFeature\n",
        "[insulin],D007328,ChemicalEntity\n",
        "[insulin resistance],D007333,DiseaseOrPhenotypicFeature\n",
        "\n",
        "#Example Output4:\n",
        "Negative_Correlation,D011618,D018967,No\n",
        "Negative_Correlation,D011618,C076029,No\n",
        "Negative_Correlation,D011618,D003024,No\n",
        "Association,D018967,D005947,Novel\n",
        "Positive_Correlation,C076029,D007333,Novel\n",
        "Comparison,C076029,D018967,Novel\n",
        "Association,C076029,D005947,Novel\n",
        "Positive_Correlation,D003024,D007333,Novel\n",
        "Comparison,D003024,D018967,Novel\n",
        "Comparison,D003024,C076029,Novel\n",
        "Association,D003024,D005947,Novel\n",
        "Negative_Correlation,D012559,D018967,No\n",
        "Negative_Correlation,D012559,C076029,No\n",
        "Negative_Correlation,D012559,D003024,No\n",
        "Negative_Correlation,D012559,D014150,No\n",
        "Positive_Correlation,D014150,D003920,Novel\n",
        "Association,D005947,D014150,Novel\n",
        "\n",
        "#Example Input5:\n",
        "Genetic variation in the COX-2 gene and the association with prostate cancer risk.\n",
        "COX-2 is a key enzyme in the conversion of arachidonic acid to prostaglandins. The prostaglandins produced by COX-2 are involved in inflammation and pain response in different tissues in the body. Accumulating evidence from epidemiologic studies, chemical carcinogen-induced rodent models and clinical trials indicate that COX-2 plays a role in human carcinogenesis and is overexpressed in prostate cancer tissue. We examined whether sequence variants in the COX-2 gene are associated with prostate cancer risk. We analyzed a large population-based case-control study, cancer prostate in Sweden (CAPS) consisting of 1,378 cases and 782 controls. We evaluated 16 single nucleotide polymorphisms (SNPs) spanning the entire COX-2 gene in 94 subjects of the control group. Five SNPs had a minor allele frequency of more than 5% in our study population and these were genotyped in all case patients and control subjects and gene-specific haplotypes were constructed. A statistically significant difference in allele frequency between cases and controls was observed for 2 of the SNPs (+3100 T/G and +8365 C/T), with an odds ratio of 0.78 (95% CI=0.64-0.96) and 0.65 (95% CI=0.45-0.94) respectively. In the haplotype analysis, 1 haplotype carrying the variant allele from both +3100 T/G and +8365 C/T, with a population frequency of 3%, was also significantly associated with decreased risk of prostate cancer (p=0.036, global simulated p-value=0.046). This study supports the hypothesis that inflammation is involved in prostate carcinogenesis and that sequence variation within the COX-2 gene influence the risk of prostate cancer.\n",
        "\n",
        "[COX-2],4513,GeneOrGeneProduct\n",
        "[prostate cancer/ cancer prostate/ prostate carcinogenesis],D011471,DiseaseOrPhenotypicFeature\n",
        "[arachidonic acid],D016718,ChemicalEntity\n",
        "[prostaglandins],D011453,ChemicalEntity\n",
        "[inflammation],D007249,DiseaseOrPhenotypicFeature\n",
        "[pain],D010146,DiseaseOrPhenotypicFeature\n",
        "[human/ patients],9606,OrganismTaxon\n",
        "[carcinogenesis],D009369,DiseaseOrPhenotypicFeature\n",
        "[+3100 T/G],c|SUB|T|+3100|G,SequenceVariant\n",
        "[+8365 C/T],c|SUB|C|+8365|T,SequenceVariant\n",
        "\n",
        "#Example Output5:\n",
        "Negative_Correlation,c|SUB|C|+8365|T,D011471,Novel\n",
        "Association,c|SUB|T|+3100|G,c|SUB|C|+8365|T,Novel\n",
        "Negative_Correlation,c|SUB|T|+3100|G,D011471,Novel\n",
        "Association,D011453,D010146,No\n",
        "Association,D011453,D007249,No\n",
        "Conversion,D016718,D011453,No\n",
        "Association,4513,D010146,No\n",
        "Association,4513,D007249,No\n",
        "Positive_Correlation,4513,D011453,No\n",
        "Association,4513,D016718,No\n",
        "Positive_Correlation,4513,D011471,Novel\n",
        "Association,4513,D009369,No\n",
        "'''"
      ],
      "metadata": {
        "cellView": "form",
        "id": "S0y47H9Zn0ZT"
      },
      "execution_count": 6,
      "outputs": []
    },
    {
      "cell_type": "code",
      "source": [
        "# @title p init\n",
        "p_init = \"\"\"You are an AI assistant specializing in extracting biomedical relations from scientific articles. Your task is to identify the biomedical entity pairs with relations in the given text and output them in a structured format.\n",
        "\n",
        "Input Format:\n",
        "1. Title of the article\n",
        "2. Abstract text\n",
        "3. List of entities in the format: [Entity Names], Entity ID, Entity Type\n",
        "\n",
        "Entity Types:\n",
        "- Gene: Genes, proteins, mRNA, and other gene products (NCBI Gene ID)\n",
        "- Chemical: Chemicals and drugs (MeSH ID)\n",
        "- Disease: Diseases, symptoms, and phenotypes (MeSH/OMIM ID)\n",
        "- Variant: Genomic and protein variants (dbSNP ID or component representation)\n",
        "- Species: Species names (NCBI Taxonomy ID)\n",
        "- CellLine: Cell line names (Cellosaurus ID)\n",
        "\n",
        "Output Format:\n",
        "Entity 1 ID, Entity 2 ID\n",
        "\n",
        "#Example Input\n",
        "Genetic variation in the COX-2 gene and the association with prostate cancer risk.\n",
        "COX-2 is a key enzyme in the conversion of arachidonic acid to prostaglandins. The prostaglandins produced by COX-2 are involved in inflammation and pain response in different tissues in the body. Accumulating evidence from epidemiologic studies, chemical carcinogen-induced rodent models and clinical trials indicate that COX-2 plays a role in human carcinogenesis and is overexpressed in prostate cancer tissue. We examined whether sequence variants in the COX-2 gene are associated with prostate cancer risk. We analyzed a large population-based case-control study, cancer prostate in Sweden (CAPS) consisting of 1,378 cases and 782 controls. We evaluated 16 single nucleotide polymorphisms (SNPs) spanning the entire COX-2 gene in 94 subjects of the control group. Five SNPs had a minor allele frequency of more than 5% in our study population and these were genotyped in all case patients and control subjects and gene-specific haplotypes were constructed. A statistically significant difference in allele frequency between cases and controls was observed for 2 of the SNPs (+3100 T/G and +8365 C/T), with an odds ratio of 0.78 (95% CI=0.64-0.96) and 0.65 (95% CI=0.45-0.94) respectively. In the haplotype analysis, 1 haplotype carrying the variant allele from both +3100 T/G and +8365 C/T, with a population frequency of 3%, was also significantly associated with decreased risk of prostate cancer (p=0.036, global simulated p-value=0.046). This study supports the hypothesis that inflammation is involved in prostate carcinogenesis and that sequence variation within the COX-2 gene influence the risk of prostate cancer.\n",
        "\n",
        "[COX-2],4513,GeneOrGeneProduct\n",
        "[prostate cancer/ cancer prostate/ prostate carcinogenesis],D011471,DiseaseOrPhenotypicFeature\n",
        "[arachidonic acid],D016718,ChemicalEntity\n",
        "[prostaglandins],D011453,ChemicalEntity\n",
        "[inflammation],D007249,DiseaseOrPhenotypicFeature\n",
        "[pain],D010146,DiseaseOrPhenotypicFeature\n",
        "[human/ patients],9606,OrganismTaxon\n",
        "[carcinogenesis],D009369,DiseaseOrPhenotypicFeature\n",
        "[+3100 T/G],c|SUB|T|+3100|G,SequenceVariant\n",
        "[+8365 C/T],c|SUB|C|+8365|T,SequenceVariant\n",
        "\n",
        "#Example Output\n",
        "c|SUB|C|+8365|T,D011471\n",
        "c|SUB|T|+3100|G,c|SUB|C|+8365|T\n",
        "c|SUB|T|+3100|G,D011471\n",
        "D011453,D010146\n",
        "D011453,D007249\n",
        "D016718,D011453\n",
        "4513,D010146\n",
        "4513,D007249\n",
        "4513,D011453\n",
        "4513,D016718\n",
        "4513,D011471\n",
        "4513,D009369\n",
        "\"\"\""
      ],
      "metadata": {
        "cellView": "form",
        "id": "Cg6z3KqJoDwu"
      },
      "execution_count": 7,
      "outputs": []
    },
    {
      "cell_type": "code",
      "source": [
        "# @title idk\n",
        "'''\n",
        "#Example Input1\n",
        "The differential effects of bupivacaine and lidocaine on prostaglandin E2 release, cyclooxygenase gene expression and pain in a clinical pain model.\n",
        "BACKGROUND: In addition to blocking nociceptive input from surgical sites, long-acting local anesthetics might directly modulate inflammation. In the present study, we describe the proinflammatory effects of bupivacaine on local prostaglandin E2 (PGE2) production and cyclooxygenase (COX) gene expression that increases postoperative pain in human subjects. METHODS: Subjects (n = 114) undergoing extraction of impacted third molars received either 2% lidocaine or 0.5% bupivacaine before surgery and either rofecoxib 50 mg or placebo orally 90 min before surgery and for the following 48 h. Oral mucosal biopsies were taken before surgery and 48 h after surgery. After extraction, a microdialysis probe was placed at the surgical site for PGE2 and thromboxane B2 (TXB2) measurements. RESULTS: The bupivacaine/rofecoxib group reported significantly less pain, as assessed by a visual analog scale, compared with the other three treatment groups over the first 4 h. However, the bupivacaine/placebo group reported significantly more pain at 24 h and PGE2 levels during the first 4 h were significantly higher than the other three treatment groups. Moreover, bupivacaine significantly increased COX-2 gene expression at 48 h as compared with the lidocaine/placebo group. Thromboxane levels were not significantly affected by any of the treatments, indicating that the effects seen were attributable to inhibition of COX-2, but not COX-1. CONCLUSIONS: These results suggest that bupivacaine stimulates COX-2 gene expression after tissue injury, which is associated with higher PGE2 production and pain after the local anesthetic effect dissipates.\n",
        "\n",
        "[bupivacaine],D002045,ChemicalEntity\n",
        "[lidocaine],D008012,ChemicalEntity\n",
        "[prostaglandin E2/ PGE2],5732,GeneOrGeneProduct\n",
        "[cyclooxygenase/ COX],4512,4513,GeneOrGeneProduct\n",
        "[pain],D010146,DiseaseOrPhenotypicFeature\n",
        "[inflammation],D007249,DiseaseOrPhenotypicFeature\n",
        "[postoperative pain],D010149,DiseaseOrPhenotypicFeature\n",
        "[human],9606,OrganismTaxon\n",
        "[rofecoxib],C116926,ChemicalEntity\n",
        "[thromboxane B2/ TXB2],D013929,ChemicalEntity\n",
        "[COX-2],4513,GeneOrGeneProduct\n",
        "[Thromboxane],D013931,ChemicalEntity\n",
        "[COX-1],4512,GeneOrGeneProduct\n",
        "[tissue injury],D017695,DiseaseOrPhenotypicFeature\n",
        "\n",
        "#Example Output1\n",
        "4512,D010149\n",
        "D013931,4513\n",
        "4513,D010149\n",
        "4513,5732\n",
        "4513,D010146\n",
        "5732,D010149\n",
        "C116926,D010146\n",
        "D002045,D010149\n",
        "D002045,4512\n",
        "D002045,D017695\n",
        "D002045,4513\n",
        "D002045,5732\n",
        "D002045,D010146\n",
        "D002045,C116926\n",
        "D002045,D008012\n",
        "\n",
        "#Example Input2\n",
        "H3 histamine receptor-mediated activation of protein kinase Calpha inhibits the growth of cholangiocarcinoma in vitro and in vivo.\n",
        "Histamine regulates functions via four receptors (HRH1, HRH2, HRH3, and HRH4). The d-myo-inositol 1,4,5-trisphosphate (IP(3))/Ca(2+)/protein kinase C (PKC)/mitogen-activated protein kinase pathway regulates cholangiocarcinoma growth. We evaluated the role of HRH3 in the regulation of cholangiocarcinoma growth. Expression of HRH3 in intrahepatic and extrahepatic cell lines, normal cholangiocytes, and human tissue arrays was measured. In Mz-ChA-1 cells stimulated with (R)-(alpha)-(-)-methylhistamine dihydrobromide (RAMH), we measured (a) cell growth, (b) IP(3) and cyclic AMP levels, and (c) phosphorylation of PKC and mitogen-activated protein kinase isoforms. Localization of PKCalpha was visualized by immunofluorescence in cell smears and immunoblotting for PKCalpha in cytosol and membrane fractions. Following knockdown of PKCalpha, Mz-ChA-1 cells were stimulated with RAMH before evaluating cell growth and extracellular signal-regulated kinase (ERK)-1/2 phosphorylation. In vivo experiments were done in BALB/c nude mice. Mice were treated with saline or RAMH for 44 days and tumor volume was measured. Tumors were excised and evaluated for proliferation, apoptosis, and expression of PKCalpha, vascular endothelial growth factor (VEGF)-A, VEGF-C, VEGF receptor 2, and VEGF receptor 3. HRH3 expression was found in all cells. RAMH inhibited the growth of cholangiocarcinoma cells. RAMH increased IP(3) levels and PKCalpha phosphorylation and decreased ERK1/2 phosphorylation. RAMH induced a shift in the localization of PKCalpha expression from the cytosolic domain into the membrane region of Mz-ChA-1 cells. Silencing of PKCalpha prevented RAMH inhibition of Mz-ChA-1 cell growth and ablated RAMH effects on ERK1/2 phosphorylation. In vivo, RAMH decreased tumor growth and expression of VEGF and its receptors; PKCalpha expression was increased. RAMH inhibits cholangiocarcinoma growth by PKCalpha-dependent ERK1/2 dephosphorylation. Modulation of PKCalpha by histamine receptors may be important in regulating cholangiocarcinoma growth.\n",
        "\n",
        "[H3 histamine receptor/ HRH3],11255,GeneOrGeneProduct\n",
        "[protein kinase Calpha/ protein kinase C/ PKC/ PKCalpha],5578,GeneOrGeneProduct\n",
        "[cholangiocarcinoma],D018281,DiseaseOrPhenotypicFeature\n",
        "[Histamine],D006632,ChemicalEntity\n",
        "[HRH1],3269,GeneOrGeneProduct\n",
        "[HRH2],3274,GeneOrGeneProduct\n",
        "[HRH4],59340,GeneOrGeneProduct\n",
        "[d-myo-inositol 1,4,5-trisphosphate/ IP(3)],D015544,ChemicalEntity\n",
        "[Ca(2+)],D002118,ChemicalEntity\n",
        "[mitogen-activated protein kinase],5594,5595,GeneOrGeneProduct\n",
        "[human],9606,OrganismTaxon\n",
        "[Mz-ChA-1],CVCL_6932,CellLine\n",
        "[(R)-(alpha)-(-)-methylhistamine dihydrobromide/ RAMH],C069357,ChemicalEntity\n",
        "[cyclic AMP],D000242,ChemicalEntity\n",
        "[extracellular signal-regulated kinase (ERK)-1/2/ ERK1/2],5595,5594,GeneOrGeneProduct\n",
        "[BALB/c],CVCL_9101,CellLine\n",
        "[mice],10090,OrganismTaxon\n",
        "[tumor/ Tumors],D009369,DiseaseOrPhenotypicFeature\n",
        "[vascular endothelial growth factor (VEGF)-A],7422,GeneOrGeneProduct\n",
        "[VEGF-C],7424,GeneOrGeneProduct\n",
        "[VEGF receptor 2],3791,GeneOrGeneProduct\n",
        "[VEGF receptor 3],2324,GeneOrGeneProduct\n",
        "[VEGF],7422,7424,GeneOrGeneProduct\n",
        "[histamine receptors],11255,3269,3274,59340,GeneOrGeneProduct\n",
        "\n",
        "#Example Output2\n",
        "D002118,D018281\n",
        "D015544,D018281\n",
        "59340,D018281\n",
        "3274,D018281\n",
        "3269,D018281\n",
        "D006632,59340\n",
        "D006632,3274\n",
        "D006632,3269\n",
        "D006632,11255\n",
        "C069357,7424\n",
        "C069357,7422\n",
        "C069357,D015544\n",
        "C069357,D009369\n",
        "C069357,5595\n",
        "C069357,5594\n",
        "C069357,D018281\n",
        "5595,D018281\n",
        "5594,D018281\n",
        "5578,59340\n",
        "5578,3274\n",
        "5578,3269\n",
        "5578,C069357\n",
        "5578,5595\n",
        "5578,5594\n",
        "5578,D018281\n",
        "11255,D018281\n",
        "11255,5578\n",
        "'''"
      ],
      "metadata": {
        "cellView": "form",
        "id": "uvq0b4_hosHr"
      },
      "execution_count": null,
      "outputs": []
    },
    {
      "cell_type": "code",
      "execution_count": 8,
      "metadata": {
        "id": "liAFKK0c8AVa"
      },
      "outputs": [],
      "source": [
        "import base64\n",
        "import vertexai\n",
        "from vertexai.generative_models import GenerativeModel, Part\n",
        "import vertexai.preview.generative_models as generative_models\n",
        "\n",
        "\n",
        "\n",
        "generation_config = {\n",
        "    \"temperature\": 0,\n",
        "    \"max_output_tokens\": 2048,\n",
        "    \"top_p\": 1,\n",
        "    \"top_k\": 1,\n",
        "}\n",
        "\n",
        "safety_settings = {\n",
        "    generative_models.HarmCategory.HARM_CATEGORY_HATE_SPEECH: generative_models.HarmBlockThreshold.BLOCK_ONLY_HIGH,\n",
        "    generative_models.HarmCategory.HARM_CATEGORY_DANGEROUS_CONTENT: generative_models.HarmBlockThreshold.BLOCK_ONLY_HIGH,\n",
        "    generative_models.HarmCategory.HARM_CATEGORY_SEXUALLY_EXPLICIT: generative_models.HarmBlockThreshold.BLOCK_ONLY_HIGH,\n",
        "    generative_models.HarmCategory.HARM_CATEGORY_HARASSMENT: generative_models.HarmBlockThreshold.BLOCK_ONLY_HIGH,\n",
        "}\n",
        "\n",
        "# pairs\n",
        "vertexai.init(project=\"439299698879\", location=\"us-central1\")\n",
        "model = GenerativeModel(\n",
        "  \"projects/439299698879/locations/us-central1/endpoints/6166859454009573376\",\n",
        "  # system_instruction=[textsi_1],\n",
        "  generation_config=generation_config,\n",
        "  safety_settings=safety_settings)\n",
        "\n",
        "# # all pairs + type + novelty\n",
        "# vertexai.init(project=\"439299698879\", location=\"us-central1\")\n",
        "# model = GenerativeModel(\n",
        "#   \"projects/439299698879/locations/us-central1/endpoints/7839805978089357312\",\n",
        "#   # system_instruction=[textsi_2],\n",
        "#   generation_config=generation_config,\n",
        "#   safety_settings=safety_settings\n",
        "# )\n",
        "\n",
        "# #pairs no instruction\n",
        "# vertexai.init(project=\"439299698879\", location=\"us-central1\")\n",
        "# model = GenerativeModel(\n",
        "#   \"projects/439299698879/locations/us-central1/endpoints/4720218811205156864\",\n",
        "#   generation_config=generation_config,\n",
        "#   safety_settings=safety_settings\n",
        "# )\n",
        "\n"
      ]
    },
    {
      "cell_type": "code",
      "execution_count": 9,
      "metadata": {
        "id": "-AD2NbjDCWjs"
      },
      "outputs": [],
      "source": [
        "types = ['Association', 'Comparison', 'Conversion', 'Cotreatment', 'Negative_Correlation', 'Positive_Correlation', 'Bind', 'Drug_Interaction']\n",
        "doc , RDP, Tokens =0,0,0"
      ]
    },
    {
      "cell_type": "code",
      "execution_count": 10,
      "metadata": {
        "id": "a8OOyw77CVXB"
      },
      "outputs": [],
      "source": [
        "def prompt_model(i):\n",
        "  global Tokens\n",
        "  global c\n",
        "\n",
        "  pmid = new_test[str(i)][\"pmid\"]\n",
        "  print(i, \".\" , pmid)\n",
        "  # prompt = add_exaples_prompt(init_prompt)\n",
        "  prompt = p_init\n",
        "  prompt += \"produce similar output for this article:\" + '\\n'\n",
        "  # prompt = \"identify the entity pairs with relations in this article:\" + '\\n'\n",
        "  prompt += inputs[i]\n",
        "  try:\n",
        "    response = model.generate_content(prompt)\n",
        "    Tokens += len(prompt.split())\n",
        "    c+=1\n",
        "\n",
        "  except:\n",
        "    print(\"no response try again:\", pmid)\n",
        "    response = model.generate_content(prompt)\n",
        "    Tokens += len(prompt.split())\n",
        "    c+=1\n",
        "\n",
        "  return response.text\n",
        "\n",
        "\n",
        "def correct_format(result):\n",
        "  try:\n",
        "    first_par = result.split('\\n')[0].split(',')[0]\n",
        "    if first_par in types:\n",
        "      return True\n",
        "    else:\n",
        "      return False\n",
        "  except:\n",
        "    return False\n",
        "\n",
        "def create_inputs():\n",
        "  inputs = []\n",
        "  for i in range(len(new_test)):\n",
        "    example = \"\"\n",
        "    doc = new_test[str(i)]\n",
        "    ents = \"\"\n",
        "    for e in doc[\"entities\"]:\n",
        "      ents += '[' + \"/ \".join(e[\"names\"]) + ']' + \",\" + e[\"id\"]+ \",\"  + e[\"type\"] + \"\\n\"\n",
        "\n",
        "    # example += \"pmid:\" + doc[\"pmid\"] +\"\\n\"\n",
        "    example += doc[\"title\"] +\"\\n\"\n",
        "    example += doc[\"article\"] +\"\\n\"\n",
        "    example +=  ents +\"\\n\"\n",
        "    i += 1\n",
        "    inputs.append(example)\n",
        "  return inputs"
      ]
    },
    {
      "cell_type": "code",
      "execution_count": 11,
      "metadata": {
        "id": "UYAaY8oODNUk"
      },
      "outputs": [],
      "source": [
        "inputs = create_inputs()"
      ]
    },
    {
      "cell_type": "code",
      "source": [
        "print(len(inputs))"
      ],
      "metadata": {
        "colab": {
          "base_uri": "https://localhost:8080/"
        },
        "collapsed": true,
        "id": "YX_ZReoOU8pr",
        "outputId": "078cab90-04de-4a42-94bb-2da81721b4c6"
      },
      "execution_count": null,
      "outputs": [
        {
          "output_type": "stream",
          "name": "stdout",
          "text": [
            "100\n"
          ]
        }
      ]
    },
    {
      "cell_type": "code",
      "execution_count": 12,
      "metadata": {
        "colab": {
          "base_uri": "https://localhost:8080/"
        },
        "id": "M3Pk5xUmIev7",
        "outputId": "d11e30bb-bca2-44cb-9f7c-92d2cc14a178"
      },
      "outputs": [
        {
          "output_type": "stream",
          "name": "stdout",
          "text": [
            "0 0 0\n"
          ]
        }
      ],
      "source": [
        "print(doc,Tokens, RDP)"
      ]
    },
    {
      "cell_type": "code",
      "execution_count": 41,
      "metadata": {
        "id": "JMKFWGMQJcs8"
      },
      "outputs": [],
      "source": [
        "doc, Tokens, RDP = 0,0,0"
      ]
    },
    {
      "cell_type": "code",
      "source": [
        "\n",
        "blocked_doc=[74, 79]\n",
        "# blocked_doc_noins = [22,92]\n"
      ],
      "metadata": {
        "id": "vTTQSduNIhmT"
      },
      "execution_count": 17,
      "outputs": []
    },
    {
      "cell_type": "code",
      "execution_count": 23,
      "metadata": {
        "id": "MqDwPj6-UvFy"
      },
      "outputs": [],
      "source": [
        "doc =80"
      ]
    },
    {
      "cell_type": "code",
      "execution_count": 24,
      "metadata": {
        "colab": {
          "base_uri": "https://localhost:8080/"
        },
        "id": "2u7bH-tnDOCe",
        "outputId": "12432da6-ef06-4a7d-a182-3f61ff72eb53"
      },
      "outputs": [
        {
          "output_type": "stream",
          "name": "stdout",
          "text": [
            "CPU times: user 3 µs, sys: 0 ns, total: 3 µs\n",
            "Wall time: 6.68 µs\n",
            "80 . 27384305\n",
            "81 . 15000256\n",
            "82 . 15811908\n",
            "83 . 19957053\n",
            "84 . 17935240\n",
            "85 . 18441470\n",
            "86 . 15036754\n",
            "87 . 15673851\n",
            "88 . 15987266\n",
            "89 . 16428827\n",
            "90 . 16844102\n",
            "91 . 17562951\n",
            "92 . 17879945\n",
            "93 . 18399341\n",
            "94 . 18439803\n",
            "95 . 19531695\n",
            "96 . 24114426\n",
            "97 . 24717468\n",
            "98 . 24739405\n",
            "99 . 24840785\n",
            "last doc:  100\n",
            "tokens: 13394\n"
          ]
        }
      ],
      "source": [
        "%time\n",
        "while (doc < 100 and RDP < 1500):\n",
        "  c=0\n",
        "  Tokens = 0\n",
        "\n",
        "  while(Tokens < 18000  and doc < 100):\n",
        "    outputs = \"\"\n",
        "    pmid = new_test[str(doc)][\"pmid\"]\n",
        "    result = prompt_model(doc)\n",
        "    if len(result) > 0:\n",
        "      outputs += \"pmid:\" + pmid+ \"\\n\" + result + \"\\n\\n\"\n",
        "      doc +=1\n",
        "      with open(\"/content/tuned_pair_model_1_shot.txt\", \"a\") as f:\n",
        "        f.write(outputs)\n",
        "    else:\n",
        "        print(doc, \".\" , pmid, \"try again\")\n",
        "\n",
        "\n",
        "\n",
        "  print(\"last doc: \", doc)\n",
        "  print(\"tokens:\", Tokens)\n",
        "\n",
        "  time.sleep(60)\n",
        "\n",
        "\n",
        "  # time.sleep(6)"
      ]
    },
    {
      "cell_type": "code",
      "source": [
        "doc = 92\n",
        "pmid = new_test[str(doc)][\"pmid\"]\n",
        "result = prompt_model(doc)\n",
        "print(result)"
      ],
      "metadata": {
        "colab": {
          "base_uri": "https://localhost:8080/",
          "height": 1000
        },
        "id": "82wLvro2fhXT",
        "outputId": "7bfb75ad-7e79-4b59-af2a-ef3b49816a7c"
      },
      "execution_count": null,
      "outputs": [
        {
          "output_type": "stream",
          "name": "stdout",
          "text": [
            "92 . 17879945\n"
          ]
        },
        {
          "output_type": "error",
          "ename": "ValueError",
          "evalue": "Cannot get the response text.\nCannot get the Candidate text.\nResponse candidate content has no parts (and thus no text). The candidate is likely blocked by the safety filters.\nContent:\n{}\nCandidate:\n{\n  \"finish_reason\": \"OTHER\"\n}\nResponse:\n{\n  \"candidates\": [\n    {\n      \"finish_reason\": \"OTHER\"\n    }\n  ],\n  \"usage_metadata\": {\n    \"prompt_token_count\": 670,\n    \"total_token_count\": 670\n  }\n}",
          "traceback": [
            "\u001b[0;31m---------------------------------------------------------------------------\u001b[0m",
            "\u001b[0;31mValueError\u001b[0m                                Traceback (most recent call last)",
            "\u001b[0;32m/usr/local/lib/python3.10/dist-packages/vertexai/generative_models/_generative_models.py\u001b[0m in \u001b[0;36mtext\u001b[0;34m(self)\u001b[0m\n\u001b[1;32m   1749\u001b[0m         \u001b[0;32mtry\u001b[0m\u001b[0;34m:\u001b[0m\u001b[0;34m\u001b[0m\u001b[0;34m\u001b[0m\u001b[0m\n\u001b[0;32m-> 1750\u001b[0;31m             \u001b[0;32mreturn\u001b[0m \u001b[0mself\u001b[0m\u001b[0;34m.\u001b[0m\u001b[0mcontent\u001b[0m\u001b[0;34m.\u001b[0m\u001b[0mtext\u001b[0m\u001b[0;34m\u001b[0m\u001b[0;34m\u001b[0m\u001b[0m\n\u001b[0m\u001b[1;32m   1751\u001b[0m         \u001b[0;32mexcept\u001b[0m \u001b[0;34m(\u001b[0m\u001b[0mValueError\u001b[0m\u001b[0;34m,\u001b[0m \u001b[0mAttributeError\u001b[0m\u001b[0;34m)\u001b[0m \u001b[0;32mas\u001b[0m \u001b[0me\u001b[0m\u001b[0;34m:\u001b[0m\u001b[0;34m\u001b[0m\u001b[0;34m\u001b[0m\u001b[0m\n",
            "\u001b[0;32m/usr/local/lib/python3.10/dist-packages/vertexai/generative_models/_generative_models.py\u001b[0m in \u001b[0;36mtext\u001b[0;34m(self)\u001b[0m\n\u001b[1;32m   1829\u001b[0m         \u001b[0;32mif\u001b[0m \u001b[0;32mnot\u001b[0m \u001b[0mself\u001b[0m\u001b[0;34m.\u001b[0m\u001b[0mparts\u001b[0m\u001b[0;34m:\u001b[0m\u001b[0;34m\u001b[0m\u001b[0;34m\u001b[0m\u001b[0m\n\u001b[0;32m-> 1830\u001b[0;31m             raise ValueError(\n\u001b[0m\u001b[1;32m   1831\u001b[0m                 \u001b[0;34m\"Response candidate content has no parts (and thus no text).\"\u001b[0m\u001b[0;34m\u001b[0m\u001b[0;34m\u001b[0m\u001b[0m\n",
            "\u001b[0;31mValueError\u001b[0m: Response candidate content has no parts (and thus no text). The candidate is likely blocked by the safety filters.\nContent:\n{}",
            "\nThe above exception was the direct cause of the following exception:\n",
            "\u001b[0;31mValueError\u001b[0m                                Traceback (most recent call last)",
            "\u001b[0;32m/usr/local/lib/python3.10/dist-packages/vertexai/generative_models/_generative_models.py\u001b[0m in \u001b[0;36mtext\u001b[0;34m(self)\u001b[0m\n\u001b[1;32m   1666\u001b[0m         \u001b[0;32mtry\u001b[0m\u001b[0;34m:\u001b[0m\u001b[0;34m\u001b[0m\u001b[0;34m\u001b[0m\u001b[0m\n\u001b[0;32m-> 1667\u001b[0;31m             \u001b[0;32mreturn\u001b[0m \u001b[0mself\u001b[0m\u001b[0;34m.\u001b[0m\u001b[0mcandidates\u001b[0m\u001b[0;34m[\u001b[0m\u001b[0;36m0\u001b[0m\u001b[0;34m]\u001b[0m\u001b[0;34m.\u001b[0m\u001b[0mtext\u001b[0m\u001b[0;34m\u001b[0m\u001b[0;34m\u001b[0m\u001b[0m\n\u001b[0m\u001b[1;32m   1668\u001b[0m         \u001b[0;32mexcept\u001b[0m \u001b[0;34m(\u001b[0m\u001b[0mValueError\u001b[0m\u001b[0;34m,\u001b[0m \u001b[0mAttributeError\u001b[0m\u001b[0;34m)\u001b[0m \u001b[0;32mas\u001b[0m \u001b[0me\u001b[0m\u001b[0;34m:\u001b[0m\u001b[0;34m\u001b[0m\u001b[0;34m\u001b[0m\u001b[0m\n",
            "\u001b[0;32m/usr/local/lib/python3.10/dist-packages/vertexai/generative_models/_generative_models.py\u001b[0m in \u001b[0;36mtext\u001b[0;34m(self)\u001b[0m\n\u001b[1;32m   1753\u001b[0m             \u001b[0;31m# The Content object does not have full information.\u001b[0m\u001b[0;34m\u001b[0m\u001b[0;34m\u001b[0m\u001b[0m\n\u001b[0;32m-> 1754\u001b[0;31m             raise ValueError(\n\u001b[0m\u001b[1;32m   1755\u001b[0m                 \u001b[0;34m\"Cannot get the Candidate text.\\n\"\u001b[0m\u001b[0;34m\u001b[0m\u001b[0;34m\u001b[0m\u001b[0m\n",
            "\u001b[0;31mValueError\u001b[0m: Cannot get the Candidate text.\nResponse candidate content has no parts (and thus no text). The candidate is likely blocked by the safety filters.\nContent:\n{}\nCandidate:\n{\n  \"finish_reason\": \"OTHER\"\n}",
            "\nThe above exception was the direct cause of the following exception:\n",
            "\u001b[0;31mValueError\u001b[0m                                Traceback (most recent call last)",
            "\u001b[0;32m<ipython-input-43-f00d0295ddd4>\u001b[0m in \u001b[0;36m<cell line: 3>\u001b[0;34m()\u001b[0m\n\u001b[1;32m      1\u001b[0m \u001b[0mdoc\u001b[0m \u001b[0;34m=\u001b[0m \u001b[0;36m92\u001b[0m\u001b[0;34m\u001b[0m\u001b[0;34m\u001b[0m\u001b[0m\n\u001b[1;32m      2\u001b[0m \u001b[0mpmid\u001b[0m \u001b[0;34m=\u001b[0m \u001b[0mnew_test\u001b[0m\u001b[0;34m[\u001b[0m\u001b[0mstr\u001b[0m\u001b[0;34m(\u001b[0m\u001b[0mdoc\u001b[0m\u001b[0;34m)\u001b[0m\u001b[0;34m]\u001b[0m\u001b[0;34m[\u001b[0m\u001b[0;34m\"pmid\"\u001b[0m\u001b[0;34m]\u001b[0m\u001b[0;34m\u001b[0m\u001b[0;34m\u001b[0m\u001b[0m\n\u001b[0;32m----> 3\u001b[0;31m \u001b[0mresult\u001b[0m \u001b[0;34m=\u001b[0m \u001b[0mprompt_model\u001b[0m\u001b[0;34m(\u001b[0m\u001b[0mdoc\u001b[0m\u001b[0;34m)\u001b[0m\u001b[0;34m\u001b[0m\u001b[0;34m\u001b[0m\u001b[0m\n\u001b[0m\u001b[1;32m      4\u001b[0m \u001b[0mprint\u001b[0m\u001b[0;34m(\u001b[0m\u001b[0mresult\u001b[0m\u001b[0;34m)\u001b[0m\u001b[0;34m\u001b[0m\u001b[0;34m\u001b[0m\u001b[0m\n",
            "\u001b[0;32m<ipython-input-33-6c48b072e9b9>\u001b[0m in \u001b[0;36mprompt_model\u001b[0;34m(i)\u001b[0m\n\u001b[1;32m     20\u001b[0m     \u001b[0mc\u001b[0m\u001b[0;34m+=\u001b[0m\u001b[0;36m1\u001b[0m\u001b[0;34m\u001b[0m\u001b[0;34m\u001b[0m\u001b[0m\n\u001b[1;32m     21\u001b[0m \u001b[0;34m\u001b[0m\u001b[0m\n\u001b[0;32m---> 22\u001b[0;31m   \u001b[0;32mreturn\u001b[0m \u001b[0mresponse\u001b[0m\u001b[0;34m.\u001b[0m\u001b[0mtext\u001b[0m\u001b[0;34m\u001b[0m\u001b[0;34m\u001b[0m\u001b[0m\n\u001b[0m\u001b[1;32m     23\u001b[0m \u001b[0;34m\u001b[0m\u001b[0m\n\u001b[1;32m     24\u001b[0m \u001b[0;34m\u001b[0m\u001b[0m\n",
            "\u001b[0;32m/usr/local/lib/python3.10/dist-packages/vertexai/generative_models/_generative_models.py\u001b[0m in \u001b[0;36mtext\u001b[0;34m(self)\u001b[0m\n\u001b[1;32m   1669\u001b[0m             \u001b[0;31m# Enrich the error message with the whole Response.\u001b[0m\u001b[0;34m\u001b[0m\u001b[0;34m\u001b[0m\u001b[0m\n\u001b[1;32m   1670\u001b[0m             \u001b[0;31m# The Candidate object does not have full information.\u001b[0m\u001b[0;34m\u001b[0m\u001b[0;34m\u001b[0m\u001b[0m\n\u001b[0;32m-> 1671\u001b[0;31m             raise ValueError(\n\u001b[0m\u001b[1;32m   1672\u001b[0m                 \u001b[0;34m\"Cannot get the response text.\\n\"\u001b[0m\u001b[0;34m\u001b[0m\u001b[0;34m\u001b[0m\u001b[0m\n\u001b[1;32m   1673\u001b[0m                 \u001b[0;34mf\"{e}\\n\"\u001b[0m\u001b[0;34m\u001b[0m\u001b[0;34m\u001b[0m\u001b[0m\n",
            "\u001b[0;31mValueError\u001b[0m: Cannot get the response text.\nCannot get the Candidate text.\nResponse candidate content has no parts (and thus no text). The candidate is likely blocked by the safety filters.\nContent:\n{}\nCandidate:\n{\n  \"finish_reason\": \"OTHER\"\n}\nResponse:\n{\n  \"candidates\": [\n    {\n      \"finish_reason\": \"OTHER\"\n    }\n  ],\n  \"usage_metadata\": {\n    \"prompt_token_count\": 670,\n    \"total_token_count\": 670\n  }\n}"
          ]
        }
      ]
    },
    {
      "cell_type": "code",
      "source": [
        "doc = 66\n",
        "pmid = new_test[str(doc)][\"pmid\"]\n",
        "result = prompt_model(doc)\n",
        "print(result)"
      ],
      "metadata": {
        "colab": {
          "base_uri": "https://localhost:8080/"
        },
        "id": "5Wa2q05vhSNf",
        "outputId": "5d0f8f1d-7079-4151-824f-9ab7926767cc"
      },
      "execution_count": null,
      "outputs": [
        {
          "output_type": "stream",
          "name": "stdout",
          "text": [
            "66 . 19484664\n",
            "Association,D001249,1636,Novel\n",
            "Association,D004342,1636,No\n",
            "Association,D001102,1636,No\n",
            "\n"
          ]
        }
      ]
    },
    {
      "cell_type": "code",
      "source": [
        "doc = 84\n",
        "pmid = new_test[str(doc)][\"pmid\"]\n",
        "result = prompt_model(doc)\n",
        "print(result)"
      ],
      "metadata": {
        "colab": {
          "base_uri": "https://localhost:8080/"
        },
        "id": "8Tbr0hQffzT4",
        "outputId": "e747bfc0-fc17-4ddc-943e-094b30692111"
      },
      "execution_count": null,
      "outputs": [
        {
          "output_type": "stream",
          "name": "stdout",
          "text": [
            "84 . 17935240\n",
            "Association,D012174,g|DEL|ORF15+652_653|AG,No\n",
            "Association,D012174,6103,No\n",
            "Association,g|DEL|ORF15+652_653|AG,6103,No\n",
            "\n"
          ]
        }
      ]
    },
    {
      "cell_type": "code",
      "source": [
        "pmid = new_test[str(21)][\"pmid\"]\n",
        "print(pmid)"
      ],
      "metadata": {
        "colab": {
          "base_uri": "https://localhost:8080/"
        },
        "id": "VLt5RUfJiJhx",
        "outputId": "0d6d53d0-1664-456e-ba26-f57c16cedd06"
      },
      "execution_count": null,
      "outputs": [
        {
          "output_type": "stream",
          "name": "stdout",
          "text": [
            "22369755\n"
          ]
        }
      ]
    },
    {
      "cell_type": "markdown",
      "metadata": {
        "id": "7dWm2PxJDKne"
      },
      "source": [
        "##test"
      ]
    },
    {
      "cell_type": "code",
      "execution_count": null,
      "metadata": {
        "id": "C6pNPsEuBQtd"
      },
      "outputs": [],
      "source": [
        "prompt = '''\n",
        "Congenital hypothyroidism due to a new deletion in the sodium/iodide symporter protein.\n",
        "OBJECTIVE: Iodide transport defect (ITD) is a rare disorder characterised by an inability of the thyroid to maintain an iodide gradient across the basolateral membrane of thyroid follicular cells, that often results in congenital hypothyroidism. When present the defect is also found in the salivary glands and gastric mucosa and it has been shown to arise from abnormalities of the sodium/iodide symporter (NIS). PATIENT: We describe a woman with hypothyroidism identified at the 3rd month of life. The diagnosis of ITD was suspected because of nodular goitre, and little if any iodide uptake by the thyroid and salivary glands. Treatment with iodide partially corrected the hypothyroidism; however, long-term substitution therapy with L-thyroxine was started. MEASUREMENTS: Thyroid radioiodide uptake was only 1.4% and 0.3% at 1 and 24 h after the administration of recombinant human TSH. The saliva to plasma I- ratio was 1.1 indicating that the inability of the thyroid gland to concentrate I- was also present in the salivary glands. RESULTS: Analysis of the patient's NIS gene revealed a 15 nucleotide (nt) deletion of the coding sequence (nt 1314 through nt 1328) and the insertion of 15 nt duplicating the first 15 nt of the adjacent intron. The patient was homozygous for this insertion/deletion, while both consanguineous parents were heterozygous. This deletion predicts the production of a protein lacking the five terminal amino acids of exon XI (439-443) which are located in the 6th intracellular loop. COS-7 cells transfected with a vector expressing the mutant del-(439-443) NIS failed to concentrate iodide, suggesting that the mutation was the direct cause of the ITD in this patient. CONCLUSION: In conclusion we describe the first Italian case of congenital hypothyroidism due to a new deletion in the NIS gene.\n",
        "[Congenital hypothyroidism],D003409,DiseaseOrPhenotypicFeature\n",
        "[sodium/iodide symporter/ NIS],6528,GeneOrGeneProduct\n",
        "[Iodide transport defect/ ITD],C564766,DiseaseOrPhenotypicFeature\n",
        "[inability of the thyroid],D050033,DiseaseOrPhenotypicFeature\n",
        "[iodide/ radioiodide/ I-],D007454,ChemicalEntity\n",
        "[PATIENT/ woman/ human],9606,OrganismTaxon\n",
        "[hypothyroidism],D007037,DiseaseOrPhenotypicFeature\n",
        "[nodular goitre],D020518,DiseaseOrPhenotypicFeature\n",
        "[L-thyroxine],D013974,ChemicalEntity\n",
        "[TSH],7200,GeneOrGeneProduct\n",
        "[deletion of the coding sequence (nt 1314 through nt 1328)],c|DEL|1314_1328|,SequenceVariant\n",
        "[insertion of 15 nt duplicating the first 15],c|DUP||15,SequenceVariant\n",
        "[lacking the five terminal amino acids of exon XI (439-443)/ del-(439-443)],p|DEL|439_443|,SequenceVariant\n",
        "[COS-7],CVCL_0224,CellLine\n",
        "'''"
      ]
    },
    {
      "cell_type": "code",
      "execution_count": null,
      "metadata": {
        "colab": {
          "base_uri": "https://localhost:8080/"
        },
        "id": "Dmj21ERgBdo1",
        "outputId": "faca2ced-7a0c-4c48-8e52-b9ebfe471553"
      },
      "outputs": [
        {
          "name": "stdout",
          "output_type": "stream",
          "text": [
            "D007454,C564766\n",
            "D007454,D050033\n",
            "D007454,D003409\n",
            "C564766,D003409\n",
            "C564766,6528\n",
            "6528,D007454\n",
            "6528,D003409\n",
            "6528,C564766\n",
            "\n"
          ]
        }
      ],
      "source": [
        "vertexai.init(project=\"439299698879\", location=\"us-central1\")\n",
        "model = GenerativeModel(\n",
        "  \"projects/439299698879/locations/us-central1/endpoints/6166859454009573376\",\n",
        "  system_instruction=[textsi_1],\n",
        "  generation_config=generation_config,\n",
        "  safety_settings=safety_settings)\n",
        "response = model.generate_content(prompt)\n",
        "print(response.text)"
      ]
    }
  ],
  "metadata": {
    "colab": {
      "provenance": [],
      "collapsed_sections": [
        "7dWm2PxJDKne"
      ],
      "authorship_tag": "ABX9TyNACR1nyFK5JEgEueY3BNuy",
      "include_colab_link": true
    },
    "kernelspec": {
      "display_name": "Python 3",
      "name": "python3"
    },
    "language_info": {
      "name": "python"
    }
  },
  "nbformat": 4,
  "nbformat_minor": 0
}